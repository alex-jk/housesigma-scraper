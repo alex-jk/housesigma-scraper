{
 "cells": [
  {
   "cell_type": "code",
   "execution_count": 3,
   "metadata": {},
   "outputs": [],
   "source": [
    "import importlib\n",
    "import scraper\n",
    "\n",
    "importlib.reload(scraper)  # Forces reloading of the scraper module\n",
    "\n",
    "from scraper import fetch_sold_listings, fetch_sold_listings_test, get_listing_details, debug_pagination"
   ]
  },
  {
   "cell_type": "code",
   "execution_count": 7,
   "metadata": {},
   "outputs": [
    {
     "name": "stdout",
     "output_type": "stream",
     "text": [
      "Chrome opened successfully!\n"
     ]
    }
   ],
   "source": [
    "from selenium import webdriver\n",
    "from selenium.webdriver.chrome.service import Service\n",
    "from webdriver_manager.chrome import ChromeDriverManager\n",
    "\n",
    "options = webdriver.ChromeOptions()\n",
    "\n",
    "# Automatically match ChromeDriver with installed Chrome version\n",
    "driver = webdriver.Chrome(service=Service(ChromeDriverManager().install()), options=options)\n",
    "\n",
    "driver.get(\"https://google.com\")  # Test if Chrome opens correctly\n",
    "\n",
    "print(\"Chrome opened successfully!\")\n",
    "driver.quit()"
   ]
  },
  {
   "cell_type": "code",
   "execution_count": 4,
   "metadata": {},
   "outputs": [
    {
     "name": "stdout",
     "output_type": "stream",
     "text": [
      "Opening HouseSigma...\n",
      "Scraping: https://housesigma.com/on/sold/map/?status=sold&lat=43.715564&lon=-79.418602&zoom=10&page=1&view=list\n",
      "Reloaded the url, waiting for the page to load\n",
      "✅ Saved HTML: housesigma_page_1.html\n",
      "Scraping: https://housesigma.com/on/sold/map/?status=sold&lat=43.715564&lon=-79.418602&zoom=10&page=2&view=list\n",
      "Reloaded the url, waiting for the page to load\n",
      "✅ Saved HTML: housesigma_page_2.html\n",
      "Scraping: https://housesigma.com/on/sold/map/?status=sold&lat=43.715564&lon=-79.418602&zoom=10&page=3&view=list\n",
      "Reloaded the url, waiting for the page to load\n",
      "✅ Saved HTML: housesigma_page_3.html\n",
      "✅ Scraping completed.\n"
     ]
    }
   ],
   "source": [
    "# Run the scraper\n",
    "url = \"https://housesigma.com/on/sold/map/?status=sold&lat=43.715564&lon=-79.418602&zoom=10&page=1&view=list\"\n",
    "\n",
    "# debug_pagination(url)\n",
    "\n",
    "fetch_sold_listings(url)\n",
    "# fetch_sold_listings_test(url)"
   ]
  },
  {
   "cell_type": "code",
   "execution_count": 6,
   "metadata": {},
   "outputs": [
    {
     "name": "stdout",
     "output_type": "stream",
     "text": [
      "Reading html file\n",
      "   Asking Price  Sold Price                                            Address\n",
      "0      $630,000    $636,000       910 - 280 Donlands Ave , Toronto - East York\n",
      "1    $1,288,000  $1,248,000  83 Flaming Rose Way , North York - Willowdale ...\n",
      "2      $899,000    $899,000  1207 - 1 Market St , Toronto - Waterfront Comm...\n",
      "3    $2,050,000  $2,108,000        70 Willett Cres , Richmond Hill - Mill Pond\n",
      "4      $519,900    $510,000    906 - 2200 Lake Shore Blvd , Etobicoke - Mimico\n",
      "5      $530,000    $510,600  313 - 2799 Kingston Rd , Scarborough - Cliffcrest\n",
      "6      $976,000    $935,000  1802 - 397 Front St W , Toronto - Waterfront C...\n",
      "7    $1,049,999  $1,018,000  1408 - 265 Ridley Blvd , Toronto - Bedford Par...\n",
      "8      $989,000    $975,000  50 Frankdale Ave , Toronto - Danforth Village-...\n",
      "9      $599,000    $651,000  2035 - 3025 Finch Ave W , North York - Humbermede\n",
      "10     $599,999    $650,000  1204 - 90 Fisherville Rd , North York - Westmi...\n",
      "11   $1,588,000  $1,500,000  313 - 20 Scrivener Sq , Toronto - Rosedale-Moo...\n",
      "12     $589,999    $570,000  403 - 177 Linus Rd , North York - Don Valley V...\n",
      "13   $1,050,000    $950,000  1836 Dufferin St , Toronto - Corso Italia-Dave...\n",
      "14   $1,258,000  $1,250,000  17 - 7 OAKBURN Cres , North York - Willowdale ...\n",
      "15     $521,000    $500,000      409 - 400 Mclevin Ave , Scarborough - Malvern\n",
      "16     $649,999    $870,000      26 Ivy Green Cres , Scarborough - Morningside\n",
      "17     $699,999    $835,000                829 - 1 Shaw St , Toronto - Niagara\n",
      "18     $839,000  $1,020,000  243 - 25 Elsie Lane , Toronto - Dovercourt-Wal...\n",
      "19     $899,000    $930,000  2335 - 20 Inn On The Park Dr , North York - Ba...\n"
     ]
    }
   ],
   "source": [
    "prices_df = get_listing_details(\"housesigma_page_2.html\")\n",
    "\n",
    "print(prices_df)"
   ]
  }
 ],
 "metadata": {
  "kernelspec": {
   "display_name": "venv",
   "language": "python",
   "name": "python3"
  },
  "language_info": {
   "codemirror_mode": {
    "name": "ipython",
    "version": 3
   },
   "file_extension": ".py",
   "mimetype": "text/x-python",
   "name": "python",
   "nbconvert_exporter": "python",
   "pygments_lexer": "ipython3",
   "version": "3.13.1"
  }
 },
 "nbformat": 4,
 "nbformat_minor": 2
}
