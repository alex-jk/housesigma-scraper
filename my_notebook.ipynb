{
 "cells": [
  {
   "cell_type": "code",
   "execution_count": 21,
   "metadata": {},
   "outputs": [],
   "source": [
    "import importlib\n",
    "import scraper\n",
    "\n",
    "importlib.reload(scraper)  # Forces reloading of the scraper module\n",
    "\n",
    "from scraper import fetch_sold_listings, get_listing_details, debug_pagination"
   ]
  },
  {
   "cell_type": "code",
   "execution_count": 7,
   "metadata": {},
   "outputs": [
    {
     "name": "stdout",
     "output_type": "stream",
     "text": [
      "Chrome opened successfully!\n"
     ]
    }
   ],
   "source": [
    "from selenium import webdriver\n",
    "from selenium.webdriver.chrome.service import Service\n",
    "from webdriver_manager.chrome import ChromeDriverManager\n",
    "\n",
    "options = webdriver.ChromeOptions()\n",
    "\n",
    "# Automatically match ChromeDriver with installed Chrome version\n",
    "driver = webdriver.Chrome(service=Service(ChromeDriverManager().install()), options=options)\n",
    "\n",
    "driver.get(\"https://google.com\")  # Test if Chrome opens correctly\n",
    "\n",
    "print(\"Chrome opened successfully!\")\n",
    "driver.quit()"
   ]
  },
  {
   "cell_type": "code",
   "execution_count": null,
   "metadata": {},
   "outputs": [
    {
     "name": "stdout",
     "output_type": "stream",
     "text": [
      "Opening HouseSigma...\n",
      "✅ Saved full page HTML: full_page_source.html\n"
     ]
    }
   ],
   "source": [
    "# Run the scraper\n",
    "url = \"https://housesigma.com/on/sold/map/?status=sold&lat=43.715564&lon=-79.418602&zoom=10&page=1&view=list\"\n",
    "\n",
    "# debug_pagination(url)\n",
    "\n",
    "fetch_sold_listings(url)"
   ]
  },
  {
   "cell_type": "code",
   "execution_count": 14,
   "metadata": {},
   "outputs": [
    {
     "name": "stdout",
     "output_type": "stream",
     "text": [
      "Reading html file\n",
      "   Asking Price  Sold Price                                            Address\n",
      "0      $998,000    $975,000   623 - 88 Colgate Ave , Toronto - South Riverdale\n",
      "1      $639,900    $635,000         524 E - 2908 Highway 7 , Vaughan - Concord\n",
      "2    $1,195,100  $1,150,000  1409 - 28 Freeland St , Toronto - Waterfront C...\n",
      "3      $989,000    $950,000  507B - 660 Sheppard Ave E , North York - Bayvi...\n",
      "4    $1,100,000  $1,000,000       264 Nairn Ave , Toronto - Caledonia-Fairbank\n",
      "5    $1,089,000  $1,030,000  176 Rosemount Ave , Toronto - Corso Italia-Dav...\n",
      "6    $1,595,000  $1,585,000         198 LAUDER Ave , Toronto - Oakwood Village\n",
      "7      $749,999    $733,000  19 Dee Ave , North York - Humberlea-Pelmo Park W4\n",
      "8      $499,900    $470,100      509 - 10 Meadowglen Pl , Scarborough - Woburn\n",
      "9      $579,900    $550,000  4909 - 181 Dundas St E , Toronto - Church-Yong...\n",
      "10   $1,395,000  $1,400,000  39B Newington Cres , Etobicoke - Eringate-Cent...\n",
      "11     $545,999    $537,500  1415 - 438 King St W , Toronto - Waterfront Co...\n",
      "12   $3,300,000  $3,300,000           442 Brock Ave , Toronto - Dufferin Grove\n",
      "13     $899,000    $900,000  118 - 90 Edgewood Ave , Toronto - Woodbine Cor...\n",
      "14     $959,990    $920,000           82 Hullmar Dr , North York - Black Creek\n",
      "15     $559,000    $543,000  Ph 02 - 40 Homewood Ave , Toronto - Cabbagetow...\n",
      "16     $550,000    $533,000  812 - 205 Hilda Ave , North York - Newtonbrook...\n",
      "17     $718,800    $699,400  315 - 83 Woodbridge Ave , Vaughan - West Woodb...\n",
      "18   $2,990,000  $2,800,000      31 Cheval Dr , North York - Banbury-Don Mills\n",
      "19     $629,000    $610,000  106 - 816 Lansdowne Ave , Toronto - Dovercourt...\n"
     ]
    }
   ],
   "source": [
    "prices_df = get_listing_details(\"logged_in_page_source.html\")\n",
    "\n",
    "print(prices_df)"
   ]
  }
 ],
 "metadata": {
  "kernelspec": {
   "display_name": "venv",
   "language": "python",
   "name": "python3"
  },
  "language_info": {
   "codemirror_mode": {
    "name": "ipython",
    "version": 3
   },
   "file_extension": ".py",
   "mimetype": "text/x-python",
   "name": "python",
   "nbconvert_exporter": "python",
   "pygments_lexer": "ipython3",
   "version": "3.13.1"
  }
 },
 "nbformat": 4,
 "nbformat_minor": 2
}
