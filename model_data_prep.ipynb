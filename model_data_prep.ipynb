{
 "cells": [
  {
   "cell_type": "markdown",
   "metadata": {},
   "source": [
    "##### Load scraped data from csv file"
   ]
  },
  {
   "cell_type": "code",
   "execution_count": 40,
   "metadata": {},
   "outputs": [
    {
     "data": {
      "text/plain": [
       "<module 'postal_codes_scraper' from 'c:\\\\Users\\\\USER\\\\Documents\\\\HouseSigma Scraper\\\\housesigma-scraper\\\\postal_codes_scraper.py'>"
      ]
     },
     "execution_count": 40,
     "metadata": {},
     "output_type": "execute_result"
    }
   ],
   "source": [
    "import pandas as pd\n",
    "import scraper\n",
    "import postal_codes_scraper\n",
    "import importlib\n",
    "\n",
    "importlib.reload(scraper)\n",
    "importlib.reload(postal_codes_scraper)"
   ]
  },
  {
   "cell_type": "code",
   "execution_count": 19,
   "metadata": {},
   "outputs": [
    {
     "name": "stdout",
     "output_type": "stream",
     "text": [
      "(764, 10)\n",
      "Index(['Asking Price', 'Sold Price', 'Address', 'Unit Type', 'Bedrooms',\n",
      "       'Bathrooms', 'Postal Code', 'Listing URL', 'Bedroom Category',\n",
      "       'Postal Code Area'],\n",
      "      dtype='object')\n",
      "\n",
      " ===================== \n",
      "\n",
      "Asking Price        float64\n",
      "Sold Price          float64\n",
      "Address              object\n",
      "Unit Type            object\n",
      "Bedrooms             object\n",
      "Bathrooms             int64\n",
      "Postal Code          object\n",
      "Listing URL          object\n",
      "Bedroom Category     object\n",
      "Postal Code Area     object\n",
      "dtype: object\n",
      "\n",
      " ===================== \n",
      "\n",
      "   Asking Price  Sold Price  \\\n",
      "0      998000.0    975000.0   \n",
      "1     1259000.0   1349000.0   \n",
      "2     3599900.0   3250000.0   \n",
      "3      825000.0    780000.0   \n",
      "4      559000.0    529000.0   \n",
      "\n",
      "                                             Address        Unit Type  \\\n",
      "0   623 - 88 Colgate Ave , Toronto - South Riverdale        Condo Apt   \n",
      "1  84A Aylesworth Ave , Scarborough - Birchcliffe...         Detached   \n",
      "2            501 Avonwood Dr , Mississauga - Mineola         Detached   \n",
      "3  314 - 199 Pine Grove Rd , Vaughan - East Woodb...  Condo Townhouse   \n",
      "4  517 - 168 Simcoe St , Toronto - Waterfront Com...        Condo Apt   \n",
      "\n",
      "  Bedrooms  Bathrooms Postal Code  \\\n",
      "0        2          2      M4M0A6   \n",
      "1        4          5      M1N2J6   \n",
      "2        4          4      L5G1Y8   \n",
      "3        2          2      L4L0H8   \n",
      "4        1          1      M5H4C9   \n",
      "\n",
      "                                         Listing URL Bedroom Category  \\\n",
      "0  https://housesigma.com/on/toronto-real-estate/...                2   \n",
      "1  https://housesigma.com/on/scarborough-real-est...               3+   \n",
      "2  https://housesigma.com/on/mississauga-real-est...               3+   \n",
      "3  https://housesigma.com/on/vaughan-real-estate/...                2   \n",
      "4  https://housesigma.com/on/toronto-real-estate/...                1   \n",
      "\n",
      "  Postal Code Area  \n",
      "0              M4M  \n",
      "1              M1N  \n",
      "2              L5G  \n",
      "3              L4L  \n",
      "4              M5H  \n"
     ]
    }
   ],
   "source": [
    "# Load the DataFrame from the CSV file\n",
    "input_df = pd.read_csv('filtered_sold_data.csv')\n",
    "input_df = input_df.drop_duplicates().reset_index(drop=True)\n",
    "\n",
    "print(input_df.shape)\n",
    "print(input_df.columns)\n",
    "print(\"\\n ===================== \\n\")\n",
    "print(input_df.dtypes)\n",
    "print(\"\\n ===================== \\n\")\n",
    "print(input_df.head())"
   ]
  },
  {
   "cell_type": "markdown",
   "metadata": {},
   "source": [
    "##### Extract maintenance fees from urls"
   ]
  },
  {
   "cell_type": "code",
   "execution_count": 20,
   "metadata": {},
   "outputs": [
    {
     "name": "stdout",
     "output_type": "stream",
     "text": [
      "🔄 Reinitializing WebDriver...\n",
      "🚀 Processing row 1/764\n",
      "🚀 Processing row 101/764\n",
      "🚀 Processing row 201/764\n",
      "🚀 Processing row 301/764\n",
      "🚀 Processing row 401/764\n",
      "🚀 Processing row 501/764\n",
      "🚀 Processing row 601/764\n",
      "🚀 Processing row 701/764\n",
      "🚀 Processing row 764/764\n",
      "(764, 3)\n",
      "\n",
      "✅ All listings processed. Browser closed.\n"
     ]
    }
   ],
   "source": [
    "from selenium import webdriver\n",
    "from selenium.webdriver.chrome.service import Service\n",
    "from webdriver_manager.chrome import ChromeDriverManager\n",
    "import time\n",
    "\n",
    "print(\"🔄 Reinitializing WebDriver...\")\n",
    "\n",
    "options = webdriver.ChromeOptions()\n",
    "options.add_argument(\"--disable-blink-features=AutomationControlled\")\n",
    "options.add_experimental_option(\"excludeSwitches\", [\"enable-automation\"])\n",
    "options.add_experimental_option(\"useAutomationExtension\", False)\n",
    "\n",
    "driver = webdriver.Chrome(service=Service(ChromeDriverManager().install()), options=options)\n",
    "\n",
    "# ✅ Open HouseSigma for manual login\n",
    "driver.get(\"https://housesigma.com\")\n",
    "input(\"🔑 Press Enter after logging in manually...\")  # ⬅️ Login manually, then press Enter\n",
    "\n",
    "input_extracted_data = scraper.process_with_progress(input_df, driver, progress_interval=100)\n",
    "\n",
    "# ✅ Convert the extracted dictionary output into a DataFrame\n",
    "input_extracted_df = input_extracted_data.apply(pd.Series)\n",
    "\n",
    "# ✅ Close the browser after processing all listings\n",
    "driver.quit()\n",
    "print(input_extracted_df.shape)\n",
    "print(\"\\n✅ All listings processed. Browser closed.\")"
   ]
  },
  {
   "cell_type": "code",
   "execution_count": 21,
   "metadata": {},
   "outputs": [
    {
     "name": "stdout",
     "output_type": "stream",
     "text": [
      "DataFrame has been saved to 'input_extracted_data.csv'\n"
     ]
    }
   ],
   "source": [
    "# Save the DataFrame to a CSV file\n",
    "input_extracted_df.to_csv('input_extracted_data.csv', index=False)\n",
    "\n",
    "# Print a confirmation message\n",
    "print(\"DataFrame has been saved to 'input_extracted_data.csv'\")"
   ]
  },
  {
   "cell_type": "code",
   "execution_count": 26,
   "metadata": {},
   "outputs": [
    {
     "name": "stdout",
     "output_type": "stream",
     "text": [
      "(764, 3)\n",
      "\n",
      " ===================== \n",
      "\n",
      "  Sold Days Ago  Maintenance Fees  \\\n",
      "0             5             708.0   \n",
      "1            11               0.0   \n",
      "2            11               0.0   \n",
      "3            11             414.0   \n",
      "4            12             728.0   \n",
      "\n",
      "                                    Unit Description  \n",
      "0  Inviting you to Suite 623 at the exceptional S...  \n",
      "1  Luxury, detached custom-built 4 bed + 5 bths +...  \n",
      "2  Where luxury is sprinkled with a traditional m...  \n",
      "3  Don't Miss This Exceptional Opportunity To Own...  \n",
      "4  Welcome to Tridel-Built 'Qwest' at Prime Locat...  \n"
     ]
    }
   ],
   "source": [
    "# Load the DataFrame from the CSV file\n",
    "input_extracted_df = pd.read_csv('input_extracted_data.csv')\n",
    "\n",
    "print(input_extracted_df.shape)\n",
    "print(\"\\n ===================== \\n\")\n",
    "\n",
    "# Extract numeric values from the 'Maintenance Fees' column\n",
    "input_extracted_df['Maintenance Fees'] = (\n",
    "    input_extracted_df['Maintenance Fees']\n",
    "    .str.replace(r'[^\\d.]', '', regex=True)  # Remove non-numeric characters\n",
    "    .replace('', '0')  # Replace empty strings with '0'\n",
    "    .astype(float)  # Convert to float\n",
    "    .fillna(0)  # Replace NaN with 0\n",
    ")\n",
    "\n",
    "# Print the first few rows to verify\n",
    "print(input_extracted_df.head())"
   ]
  },
  {
   "cell_type": "markdown",
   "metadata": {},
   "source": [
    "##### Merge input data and extracted data (sold days ago values, maintenance fees, unit description)"
   ]
  },
  {
   "cell_type": "code",
   "execution_count": 33,
   "metadata": {},
   "outputs": [
    {
     "name": "stdout",
     "output_type": "stream",
     "text": [
      "(764, 13)\n",
      "\n",
      " ===================== \n",
      "\n",
      "   Asking Price  Sold Price  \\\n",
      "0      998000.0    975000.0   \n",
      "1     1259000.0   1349000.0   \n",
      "2     3599900.0   3250000.0   \n",
      "3      825000.0    780000.0   \n",
      "4      559000.0    529000.0   \n",
      "\n",
      "                                                     Address        Unit Type  \\\n",
      "0           623 - 88 Colgate Ave , Toronto - South Riverdale        Condo Apt   \n",
      "1   84A Aylesworth Ave , Scarborough - Birchcliffe-Cliffside         Detached   \n",
      "2                    501 Avonwood Dr , Mississauga - Mineola         Detached   \n",
      "3        314 - 199 Pine Grove Rd , Vaughan - East Woodbridge  Condo Townhouse   \n",
      "4  517 - 168 Simcoe St , Toronto - Waterfront Communities C1        Condo Apt   \n",
      "\n",
      "  Bedrooms  Bathrooms Postal Code  \\\n",
      "0        2          2      M4M0A6   \n",
      "1        4          5      M1N2J6   \n",
      "2        4          4      L5G1Y8   \n",
      "3        2          2      L4L0H8   \n",
      "4        1          1      M5H4C9   \n",
      "\n",
      "                                                                                   Listing URL  \\\n",
      "0      https://housesigma.com/on/toronto-real-estate/623-88-colgate-ave/home/DnM697koZNd7bmwe/   \n",
      "1  https://housesigma.com/on/scarborough-real-estate/84a-aylesworth-ave/home/L5VXv3l1GlNYj2q8/   \n",
      "2     https://housesigma.com/on/mississauga-real-estate/501-avonwood-dr/home/DO1w3Wq1eJVy8Jg0/   \n",
      "3   https://housesigma.com/on/vaughan-real-estate/314-199-pine-grove-rd/home/a6zqW7dJrRXY5eZE/   \n",
      "4       https://housesigma.com/on/toronto-real-estate/517-168-simcoe-st/home/jJKdOYrdERj754lW/   \n",
      "\n",
      "  Bedroom Category Postal Code Area Sold Days Ago  Maintenance Fees  \\\n",
      "0                2              M4M             5             708.0   \n",
      "1               3+              M1N            11               0.0   \n",
      "2               3+              L5G            11               0.0   \n",
      "3                2              L4L            11             414.0   \n",
      "4                1              M5H            12             728.0   \n",
      "\n",
      "                                                                                                                                                                                                                                                                                                                                                                                                                                                                                                                                                                                                                                                                                                                                                                                                                                                                                                                                                                                                                                                                                                                                                                                                                                                                                                                                                                                                                                                                                                                                                                                                                                                                                                                                                                                                                                                                                                                  Unit Description  \n",
      "0  Inviting you to Suite 623 at the exceptional Showcase Lofts in prime Leslieville. A staple of this thriving community, Showcase Lofts has timeless curb appeal and is arguably one of the best investments in the neighbourhood. Walking into the building you will be greeted by your 24Hr concierge, mail & parcel room, bright fully equipped gym, and party room that opens to a private courtyard with a BBQ area perfect for private gatherings. Arrive on the 6th floor into this sunny south facing 2 bedroom suite. The first thing that will catch your eye is the classic exposed red brick feature wall, signature of the Showcase Lofts. This gives the suite a charming authentic loft feeling while being in a newer building. Enjoy cooking or entertaining in the highly functional U-shape kitchen with full size gas range, large stone countertop island with seating, and built in wine storage. Step out to the oversized south facing covered balcony with room for outdoor dining, sun lounges, and to fill with plants who will love the sun. Enjoy treetop views of Leslieville and to the west the CN Tower & cityscape which is stunning at night. Enjoy another walk out from your second bedroom which currently functions as a home office den. This special space has a custom built in bar perfect for cozying up with a cocktail or heading out to the balcony in the summer. Across from the second bedroom you will find a full bath beside your brand new washer & dryer utility closet. The oversized primary bedroom easily accommodates a king size bed along with another potential seating area. Heading through to your ensuite bath you will enjoy custom mirrored double closets. For extra storage use your conveniently located suite level locker. Two owned bike racks and underground parking included. Enjoy the ultimate Leslieville lifestyle in Showcase Lofts Suite 623.  \n",
      "1                                                                                                                                                                                                                                                                                                                                                                                                                                                                                                                                                                                                                                                                                                                                                                                                                                                                                                                                                                                                                                                                                                                          Luxury, detached custom-built 4 bed + 5 bths + finished basement in Birchcliffe-Cliffside.Steps to TTC, rec centre w/pool, park, shopping. Modern open concept split-level layout, hardwood floors, pot-lights throughout main level, crown mouldings, high ceilings. Eat-in kitchen with 10' centre island, stone counters, gas stove. Family room features 12' ceil, walk-out to deck, build-in fireplace, skylight. Main bedroom includes 4-pc ensuite with Soaker Tub & glass Shower, Walk-In Closet, Tray ceiling. Second Bdrm features 3-pc bathroom w/window. Finished basement with walk-out to garden, 9' ceil, laminate flooring & 3-Pc bath makes a great in-law or nanny suite. Minutes drive to Main, Warden, Kennedy stations, 5 mins to Go station, Bluffs parks, 30 min to downtown TO.  \n",
      "2                                                                                                                                                                                                                                                                                                                                                                                                                                                                                                                                                        Where luxury is sprinkled with a traditional mix of classic and modern styles! This custom home is a true design masterpiece located in the highly desirable Mineola neighbourhood. It boasts high-end finishes and an abundance of natural light. A white oak staircase and floors, combined with custom millwork, add a touch of elegance, while 10-foot ceilings enhance the spacious ambiance. The gourmet kitchen is a chefs paradise, featuring a double island, Caesarstone countertops, and a walk-in pantry with a custom solid red oak arched doorway. The open-concept layout seamlessly connects the kitchen to the family and dining rooms, with iron-framed full-glass French doors leading to a separate living room. Additionally, there is an office/den on the main floor. Upstairs, you will find four bedrooms, each with its own bathroom. The primary bedroom is a luxurious retreat with a wet bar, two walk-in closets, custom cabinetry, and a spa-like ensuite. Lower level is ready for your personal touch, with a separate walk-up entrance for potential additional living space. This home perfectly blends style and functionality, offering a comfortable and elegant living experience. **EXTRAS** Existing appliances (refrigerator, gas stove, dishwasher, washer/dryer, microwave, bar fridge), light fixtures. hot water on demand.  \n",
      "3                                                                                                                                                                                                                                                                                                                                                                                                                                                                                                                                                                                                             Don't Miss This Exceptional Opportunity To Own A Stunning, Modern Luxury Bungalow-Style Stacked Townhouse With Breathtaking Views Of The Humber River And Surrounding Green Space. This Impeccably Maintained 2-Bedroom, 2-Bathroom Unit Features A Spacious Open-Concept Floor Plan With Chic Modern Finishes, 9-Foot Ceilings, And Large Windows That Flood The Space With Natural Light. A very Large 882 square feet Unit. Enjoy The Convenience Of 'Two Walk-Out Balconies', An Upgraded Kitchen, A Large Primary Bedroom With An Ensuite Bath, And A Dedicated Parking Spot. This Home Offers The Perfect Blend Of Stylish Interior Design And Outdoor Enjoyment, With One Balcony Overlooking The Serene Humber River. Boasting One Of The Best Layouts In The Development And No Stairs!!, This Rare Turnkey Unit Is Located In The Highly Sought-After Islington Woods Community Of Woodbridge. Enjoy Easy Access To Top-Notch Amenities, Including Highways, Retail Stores, Market Lane, Schools, Recreational Centers, Places Of Worship, Parks, Nature Trails, And More! **EXTRAS** Stainless Steel , Washer & Dryer, Upgraded Kitchen Cabinets and Quartz Countertops, Upgraded ELF' and Window Coverings, 2 Walk-Out's to Balconies, 9' Smooth Ceilings, Primary Bedroom Ensuite, 1 Parking, 1 Locker.  \n",
      "4                                                                                                                                                                                                                                                                                                                                                                                                                                                                                                                                                                                                                                                                                                                                                                                                                                                                                                                                                                                                                                                                                                                                                                                                                                                                                                  Welcome to Tridel-Built 'Qwest' at Prime Location at Queen & University! Enjoy short walk to Queen Street, CN Tower, Princess of Wales Theatre, Eaton Centre or any other hotspot the entertainment district has to offer. 1 Min Walk to TTC Osgoode Station! This affordable, spacious 653 sq ft's 1 Bedroom 1 Bathroom suite features functional and open-concept layouts, renovated kitchens with modern appliances and granite countertops, bedroom with spacious walk-in closet.24h security, amenities include: whirlpool, change rooms with sauna, billiard room, party room. rooftop terrace with BBQs, fitness centre.  \n",
      "Merged DataFrame has been saved to 'merged_data.csv'\n"
     ]
    },
    {
     "name": "stderr",
     "output_type": "stream",
     "text": [
      "C:\\Users\\USER\\AppData\\Local\\Temp\\ipykernel_4104\\1331898352.py:4: FutureWarning: A value is trying to be set on a copy of a DataFrame or Series through chained assignment using an inplace method.\n",
      "The behavior will change in pandas 3.0. This inplace method will never work because the intermediate object on which we are setting values always behaves as a copy.\n",
      "\n",
      "For example, when doing 'df[col].method(value, inplace=True)', try using 'df.method({col: value}, inplace=True)' or df[col] = df[col].method(value) instead, to perform the operation inplace on the original object.\n",
      "\n",
      "\n",
      "  merged_df['Sold Days Ago'].fillna(0, inplace=True)\n"
     ]
    }
   ],
   "source": [
    "# Concatenate the DataFrames along the columns axis\n",
    "merged_df = pd.concat([input_df, input_extracted_df], axis=1)\n",
    "\n",
    "merged_df['Sold Days Ago'].fillna(0, inplace=True)\n",
    "\n",
    "# Print the first few rows to verify\n",
    "print(merged_df.shape)\n",
    "print(\"\\n ===================== \\n\")\n",
    "print(merged_df.head())\n",
    "\n",
    "# Save the merged DataFrame to a new CSV file\n",
    "merged_df.to_csv('merged_data.csv', index=False)\n",
    "\n",
    "# Print a confirmation message\n",
    "print(\"Merged DataFrame has been saved to 'merged_data.csv'\")"
   ]
  },
  {
   "cell_type": "markdown",
   "metadata": {},
   "source": [
    "##### Check maintenance fees values for condo units"
   ]
  },
  {
   "cell_type": "code",
   "execution_count": 34,
   "metadata": {},
   "outputs": [
    {
     "name": "stdout",
     "output_type": "stream",
     "text": [
      "Number of rows where 'Unit Type' contains 'condo' and 'Maintenance Fees' are 0: 3\n",
      "     Asking Price  Sold Price  \\\n",
      "315      698000.0    680000.0   \n",
      "509      695000.0    640000.0   \n",
      "590      599000.0    525000.0   \n",
      "\n",
      "                                                         Address  Unit Type  \\\n",
      "315       608 - 8 Eglinton Ave E , Toronto - Mount Pleasant West  Condo Apt   \n",
      "509  809 - 77 Harbour Sq W , Toronto - Waterfront Communities C1  Condo Apt   \n",
      "590     3007 - 50 Charles St E , Toronto - Church-Yonge Corridor  Condo Apt   \n",
      "\n",
      "    Bedrooms  Bathrooms Postal Code  \\\n",
      "315        2          2      M4P0C1   \n",
      "509        1          1      M5J2S2   \n",
      "590        1          1      M4Y0C3   \n",
      "\n",
      "                                                                                   Listing URL  \\\n",
      "315  https://housesigma.com/on/toronto-real-estate/608-8-eglinton-ave-e/home/damgL7AqBJV7Z1MW/   \n",
      "509   https://housesigma.com/on/toronto-real-estate/809-77-harbour-sq-w/home/weQp5yOoorvyd0ZE/   \n",
      "590  https://housesigma.com/on/toronto-real-estate/3007-50-charles-st-e/home/oK8OgYBPQ0x7JmG2/   \n",
      "\n",
      "    Bedroom Category Postal Code Area Sold Days Ago  Maintenance Fees  \\\n",
      "315                2              M4P             1               0.0   \n",
      "509                1              M5J             0               0.0   \n",
      "590                1              M4Y             1               0.0   \n",
      "\n",
      "                                                                                                                                                                                                                                                                                                                                                                                                                                                                                                                                                                                                                                                                                                                                                                                                                                                                                                                                                                                                                             Unit Description  \n",
      "315  Experience Luxurious Living In This Stunning 2-bedroom, 2-bathroom Corner Unit At The Prestigious E-Condo Building. Offering 692sq. ft. Of Beautifully Designed Space With 9-foot Ceilings, Floor-To-Ceiling Windows, And An Open-Concept Layout, This Home Is Filled With Natural Light. The Modern Kitchen Features Sleek Built-In Appliances, While The Primary Bedroom Boasts A Private 3-Piece Ensuite And Walk-In Closet. Step Onto The Expansive 257 sq. ft. Wrap-Around Balcony And Take In Breathtaking Panoramic City Views From South To North. Located At Yonge & Eglinton, This Prime Spot Offers Quick Access To The Subway And Eglinton LRT, With Grocery Stores, Shopping, Dining, Parks, And Schools Just Steps Away. The Buildings Exceptional Amenities Include An expansive Indoor Lap Pool with Bar Lounge, Gym, Party Room, Yoga Studio, Media Room, Concierge Services, And More. Complete With Parking And Large Locker, This Unit Is A Rare Opportunity To Live In One Of Toronto's Most Vibrant Neighborhoods!  \n",
      "509                                                                                                                                                                                                                                                                               Amazing location on the waterfront . Walking distance to work and fun. This Large 1 bedroom condo is freshly painted and features a renovated bathroom with a double sink. The unit's storage is located just a few steps away and the unit boasts 3 large closets (bedroom , bath and front door). It is located on the 8th floor along with the pool, gym and other facilities (no waiting for the elevator ) . The services and amenities in the building are outstanding. Employees and unit owners are friendly and welcoming , creating an environment that feels like home. Save on TTC with private bus that services the downtown core. **EXTRAS** Included for Tenants use: Fridge, Stove, washer/dryer, dishwasher, Furnishings as per ScheduleC  \n",
      "590                                                                                       Fabulous CASA III, Located in Downtown's Yonge and Bloor neighborhood, Walk to Yorkville which is a celebration of the very best fashion, food, wellness and culture. Explore luxury shops, unique restaurants, world-class art galleries, and the best salons & spas Toronto has to offer. Enjoy this  Beautiful 1 Bedroom 1 Bath Condo In A Well Managed Building, Great Rental for students, Single or a couple, This unit comes with a locker for extra storage, Carpet Free, nice size Living with walkout to a large balcony, the kitchen offers stainless steel appliances, Quartz Counters and plenty of cabinets, Great size bedroom, Excellent Location, With Walking Distance To Bloor Subway, Yorkville Shopping, University Of Toronto, easy access to Ryerson University, Famous Restaurants, Ttc, Night Life, This Building Offers Great Facilities, 24 Hour Concierge, Gym, outdoor Pool With Sauna & Hot Tub, No Smoking building.  \n"
     ]
    }
   ],
   "source": [
    "# Filter the DataFrame for rows where 'Unit Type' contains 'Condo' (case-insensitive) and 'Maintenance Fees' are 0\n",
    "condo_zero_fees = merged_df[(merged_df['Unit Type'].str.contains('condo', case=False, na=False)) & (merged_df['Maintenance Fees'] == 0)]\n",
    "\n",
    "# Print the number of rows that match the criteria\n",
    "print(f\"Number of rows where 'Unit Type' contains 'condo' and 'Maintenance Fees' are 0: {condo_zero_fees.shape[0]}\")\n",
    "\n",
    "# Optionally, print the first few rows to verify\n",
    "pd.set_option('display.max_colwidth', None)\n",
    "print(condo_zero_fees.head())"
   ]
  },
  {
   "cell_type": "markdown",
   "metadata": {},
   "source": [
    "##### If there are only several rows missing maintenace fees, can enter them manually"
   ]
  },
  {
   "cell_type": "code",
   "execution_count": 35,
   "metadata": {},
   "outputs": [],
   "source": [
    "updates = [\n",
    "    (315, 877.00),\n",
    "    (509, 974.00),\n",
    "    (590, 522.00)\n",
    "]\n",
    "\n",
    "for idx, fee in updates:\n",
    "    merged_df.loc[idx, 'Maintenance Fees'] = fee"
   ]
  },
  {
   "cell_type": "code",
   "execution_count": 36,
   "metadata": {},
   "outputs": [],
   "source": [
    "merged_df.to_csv(\"merged_data.csv\", index=False)"
   ]
  },
  {
   "cell_type": "markdown",
   "metadata": {},
   "source": [
    "##### Create more features for predictive model"
   ]
  },
  {
   "cell_type": "code",
   "execution_count": 2,
   "metadata": {},
   "outputs": [
    {
     "name": "stdout",
     "output_type": "stream",
     "text": [
      "Index(['Asking Price', 'Sold Price', 'Address', 'Unit Type', 'Bedrooms',\n",
      "       'Bathrooms', 'Postal Code', 'Listing URL', 'Bedroom Category',\n",
      "       'Postal Code Area', 'Sold Days Ago', 'Maintenance Fees',\n",
      "       'Unit Description'],\n",
      "      dtype='object')\n",
      "\n",
      " ===================== \n",
      "\n",
      "116\n"
     ]
    }
   ],
   "source": [
    "# Load the merged DataFrame from the CSV file\n",
    "merged_df = pd.read_csv('merged_data.csv')\n",
    "\n",
    "print(merged_df.columns)\n",
    "print(\"\\n ===================== \\n\")\n",
    "print(len(merged_df['Postal Code Area'].unique()))"
   ]
  },
  {
   "cell_type": "code",
   "execution_count": 15,
   "metadata": {},
   "outputs": [
    {
     "data": {
      "text/plain": [
       "(43.651, -79.34)"
      ]
     },
     "execution_count": 15,
     "metadata": {},
     "output_type": "execute_result"
    }
   ],
   "source": [
    "postal_codes_scraper.get_lat_lon_from_geonames(\"m4m\")"
   ]
  },
  {
   "cell_type": "code",
   "execution_count": null,
   "metadata": {},
   "outputs": [
    {
     "name": "stdout",
     "output_type": "stream",
     "text": [
      "M2R -> Lat: 43.7786, Lon: -79.445, Place: Willowdale West, Province: Ontario\n",
      "M4M -> Lat: 43.6561, Lon: -79.3406, Place: East Toronto (Studio District), Province: Ontario\n",
      "M5R -> Lat: 43.6736, Lon: -79.4035, Place: Central Toronto (The Annex / North Midtown / Yorkville), Province: Ontario\n",
      "M3C -> Lat: 43.7334, Lon: -79.3329, Place: Don Mills South (Flemingdon Park), Province: Ontario\n"
     ]
    }
   ],
   "source": [
    "import pgeocode\n",
    "\n",
    "# Initialize the pgeocode Nominatim for Canada\n",
    "nomi = pgeocode.Nominatim('ca')\n",
    "\n",
    "# Suppose you have a list of postal codes\n",
    "postal_codes = [\"M2R\", \"M4M\", \"M5R\", \"M3C\"]\n",
    "\n",
    "# Option 1: Query them in a simple loop\n",
    "for pc in postal_codes:\n",
    "    result = nomi.query_postal_code(pc)\n",
    "    print(f\"{pc} -> Lat: {result.latitude}, Lon: {result.longitude}, Place: {result.place_name}, Province: {result.state_name}\")"
   ]
  },
  {
   "cell_type": "code",
   "execution_count": 42,
   "metadata": {},
   "outputs": [
    {
     "name": "stdout",
     "output_type": "stream",
     "text": [
      "   Asking Price  Sold Price  \\\n",
      "0      998000.0    975000.0   \n",
      "1     1259000.0   1349000.0   \n",
      "2     3599900.0   3250000.0   \n",
      "3      825000.0    780000.0   \n",
      "4      559000.0    529000.0   \n",
      "5     1399999.0   1430000.0   \n",
      "6     1295000.0   1249000.0   \n",
      "7     1458900.0   1415000.0   \n",
      "8      708000.0    668000.0   \n",
      "9     1079000.0   1070000.0   \n",
      "\n",
      "                                             Address        Unit Type  \\\n",
      "0   623 - 88 Colgate Ave , Toronto - South Riverdale        Condo Apt   \n",
      "1  84A Aylesworth Ave , Scarborough - Birchcliffe...         Detached   \n",
      "2            501 Avonwood Dr , Mississauga - Mineola         Detached   \n",
      "3  314 - 199 Pine Grove Rd , Vaughan - East Woodb...  Condo Townhouse   \n",
      "4  517 - 168 Simcoe St , Toronto - Waterfront Com...        Condo Apt   \n",
      "5          22 Sgotto Blvd , Vaughan - Sonoma Heights         Detached   \n",
      "6         63 Thatcher Ave , Scarborough - Cliffcrest         Detached   \n",
      "7  611 - 1 Belsize Dr , Toronto - Mount Pleasant ...        Condo Apt   \n",
      "8  LPH 03 - 55 Bloor St E , Toronto - Church-Yong...        Condo Apt   \n",
      "9         4254 Poltava Cres , Mississauga - Rathwood         Detached   \n",
      "\n",
      "  Bedrooms  Bathrooms Postal Code  \\\n",
      "0        2          2      M4M0A6   \n",
      "1        4          5      M1N2J6   \n",
      "2        4          4      L5G1Y8   \n",
      "3        2          2      L4L0H8   \n",
      "4        1          1      M5H4C9   \n",
      "5        3          4      L4H1X1   \n",
      "6        3          3      M1M2M3   \n",
      "7        2          3      M4S0B9   \n",
      "8        2          2      M4W3W6   \n",
      "9        4          2      L4W3C2   \n",
      "\n",
      "                                         Listing URL Bedroom Category  \\\n",
      "0  https://housesigma.com/on/toronto-real-estate/...                2   \n",
      "1  https://housesigma.com/on/scarborough-real-est...               3+   \n",
      "2  https://housesigma.com/on/mississauga-real-est...               3+   \n",
      "3  https://housesigma.com/on/vaughan-real-estate/...                2   \n",
      "4  https://housesigma.com/on/toronto-real-estate/...                1   \n",
      "5  https://housesigma.com/on/vaughan-real-estate/...               3+   \n",
      "6  https://housesigma.com/on/scarborough-real-est...               3+   \n",
      "7  https://housesigma.com/on/toronto-real-estate/...                2   \n",
      "8  https://housesigma.com/on/toronto-real-estate/...                2   \n",
      "9  https://housesigma.com/on/mississauga-real-est...               3+   \n",
      "\n",
      "  Postal Code Area Sold Days Ago  Maintenance Fees  \\\n",
      "0              M4M             5             708.0   \n",
      "1              M1N            11               0.0   \n",
      "2              L5G            11               0.0   \n",
      "3              L4L            11             414.0   \n",
      "4              M5H            12             728.0   \n",
      "5              L4H            12               0.0   \n",
      "6              M1M            12               0.0   \n",
      "7              M4S            12             945.0   \n",
      "8              M4W            12             980.0   \n",
      "9              L4W            12               0.0   \n",
      "\n",
      "                                    Unit Description  Latitude  Longitude  \\\n",
      "0  Inviting you to Suite 623 at the exceptional S...   43.6561   -79.3406   \n",
      "1  Luxury, detached custom-built 4 bed + 5 bths +...   43.6952   -79.2646   \n",
      "2  Where luxury is sprinkled with a traditional m...   43.5647   -79.5852   \n",
      "3  Don't Miss This Exceptional Opportunity To Own...   43.8064   -79.5995   \n",
      "4  Welcome to Tridel-Built 'Qwest' at Prime Locat...   43.6496   -79.3833   \n",
      "5  This beautifully updated 3-bedroom home in the...   43.8432   -79.5644   \n",
      "6  Experience modern elegance blended with sophis...   43.7247   -79.2312   \n",
      "7  Welcome to J. Davis House, a boutique building...   43.7020   -79.3853   \n",
      "8  LPH#3 - 2 Bathrooms. 2 Bedrooms. An Extraordin...   43.6827   -79.3730   \n",
      "9  Welcome to 4254 Poltava Crescent, a charming r...   43.6413   -79.6296   \n",
      "\n",
      "                                               Place Province  \n",
      "0                     East Toronto (Studio District)  Ontario  \n",
      "1         Scarborough (Birch Cliff / Cliffside West)  Ontario  \n",
      "2  Mississauga (SW Lakeview / Mineola / East Port...  Ontario  \n",
      "3                                   Woodbridge South  Ontario  \n",
      "4      Downtown Toronto (Richmond / Adelaide / King)  Ontario  \n",
      "5                                   Woodbridge North  Ontario  \n",
      "6  Scarborough (Cliffside / Cliffcrest / Scarboro...  Ontario  \n",
      "7                       Central Toronto (Davisville)  Ontario  \n",
      "8                        Downtown Toronto (Rosedale)  Ontario  \n",
      "9             Mississauga (Matheson / East Rathwood)  Ontario  \n"
     ]
    }
   ],
   "source": [
    "geocoder = postal_codes_scraper.PostalCodeGeocoder(postal_code_col='Postal Code Area')\n",
    "\n",
    "df_subset = merged_df.head(10)\n",
    "geocoder.fit(df_subset)  # Important! Initializes self.nomi_\n",
    "df_with_coords = geocoder.transform(df_subset)\n",
    "print(df_with_coords)"
   ]
  }
 ],
 "metadata": {
  "kernelspec": {
   "display_name": "venv",
   "language": "python",
   "name": "python3"
  },
  "language_info": {
   "codemirror_mode": {
    "name": "ipython",
    "version": 3
   },
   "file_extension": ".py",
   "mimetype": "text/x-python",
   "name": "python",
   "nbconvert_exporter": "python",
   "pygments_lexer": "ipython3",
   "version": "3.13.1"
  }
 },
 "nbformat": 4,
 "nbformat_minor": 2
}
