{
 "cells": [
  {
   "cell_type": "markdown",
   "metadata": {},
   "source": [
    "##### Load scraped data from csv file"
   ]
  },
  {
   "cell_type": "code",
   "execution_count": 18,
   "metadata": {},
   "outputs": [
    {
     "data": {
      "text/plain": [
       "<module 'scraper' from 'c:\\\\Users\\\\USER\\\\Documents\\\\HouseSigma Scraper\\\\housesigma-scraper\\\\scraper.py'>"
      ]
     },
     "execution_count": 18,
     "metadata": {},
     "output_type": "execute_result"
    }
   ],
   "source": [
    "import pandas as pd\n",
    "import scraper\n",
    "import importlib\n",
    "\n",
    "importlib.reload(scraper) "
   ]
  },
  {
   "cell_type": "code",
   "execution_count": 19,
   "metadata": {},
   "outputs": [
    {
     "name": "stdout",
     "output_type": "stream",
     "text": [
      "(764, 10)\n",
      "Index(['Asking Price', 'Sold Price', 'Address', 'Unit Type', 'Bedrooms',\n",
      "       'Bathrooms', 'Postal Code', 'Listing URL', 'Bedroom Category',\n",
      "       'Postal Code Area'],\n",
      "      dtype='object')\n",
      "\n",
      " ===================== \n",
      "\n",
      "Asking Price        float64\n",
      "Sold Price          float64\n",
      "Address              object\n",
      "Unit Type            object\n",
      "Bedrooms             object\n",
      "Bathrooms             int64\n",
      "Postal Code          object\n",
      "Listing URL          object\n",
      "Bedroom Category     object\n",
      "Postal Code Area     object\n",
      "dtype: object\n",
      "\n",
      " ===================== \n",
      "\n",
      "   Asking Price  Sold Price  \\\n",
      "0      998000.0    975000.0   \n",
      "1     1259000.0   1349000.0   \n",
      "2     3599900.0   3250000.0   \n",
      "3      825000.0    780000.0   \n",
      "4      559000.0    529000.0   \n",
      "\n",
      "                                             Address        Unit Type  \\\n",
      "0   623 - 88 Colgate Ave , Toronto - South Riverdale        Condo Apt   \n",
      "1  84A Aylesworth Ave , Scarborough - Birchcliffe...         Detached   \n",
      "2            501 Avonwood Dr , Mississauga - Mineola         Detached   \n",
      "3  314 - 199 Pine Grove Rd , Vaughan - East Woodb...  Condo Townhouse   \n",
      "4  517 - 168 Simcoe St , Toronto - Waterfront Com...        Condo Apt   \n",
      "\n",
      "  Bedrooms  Bathrooms Postal Code  \\\n",
      "0        2          2      M4M0A6   \n",
      "1        4          5      M1N2J6   \n",
      "2        4          4      L5G1Y8   \n",
      "3        2          2      L4L0H8   \n",
      "4        1          1      M5H4C9   \n",
      "\n",
      "                                         Listing URL Bedroom Category  \\\n",
      "0  https://housesigma.com/on/toronto-real-estate/...                2   \n",
      "1  https://housesigma.com/on/scarborough-real-est...               3+   \n",
      "2  https://housesigma.com/on/mississauga-real-est...               3+   \n",
      "3  https://housesigma.com/on/vaughan-real-estate/...                2   \n",
      "4  https://housesigma.com/on/toronto-real-estate/...                1   \n",
      "\n",
      "  Postal Code Area  \n",
      "0              M4M  \n",
      "1              M1N  \n",
      "2              L5G  \n",
      "3              L4L  \n",
      "4              M5H  \n"
     ]
    }
   ],
   "source": [
    "# Load the DataFrame from the CSV file\n",
    "input_df = pd.read_csv('filtered_sold_data.csv')\n",
    "input_df = input_df.drop_duplicates().reset_index(drop=True)\n",
    "\n",
    "print(input_df.shape)\n",
    "print(input_df.columns)\n",
    "print(\"\\n ===================== \\n\")\n",
    "print(input_df.dtypes)\n",
    "print(\"\\n ===================== \\n\")\n",
    "print(input_df.head())"
   ]
  },
  {
   "cell_type": "markdown",
   "metadata": {},
   "source": [
    "##### Extract maintenance fees from urls"
   ]
  },
  {
   "cell_type": "code",
   "execution_count": 20,
   "metadata": {},
   "outputs": [
    {
     "name": "stdout",
     "output_type": "stream",
     "text": [
      "🔄 Reinitializing WebDriver...\n",
      "🚀 Processing row 1/764\n",
      "🚀 Processing row 101/764\n",
      "🚀 Processing row 201/764\n",
      "🚀 Processing row 301/764\n",
      "🚀 Processing row 401/764\n",
      "🚀 Processing row 501/764\n",
      "🚀 Processing row 601/764\n",
      "🚀 Processing row 701/764\n",
      "🚀 Processing row 764/764\n",
      "(764, 3)\n",
      "\n",
      "✅ All listings processed. Browser closed.\n"
     ]
    }
   ],
   "source": [
    "from selenium import webdriver\n",
    "from selenium.webdriver.chrome.service import Service\n",
    "from webdriver_manager.chrome import ChromeDriverManager\n",
    "import time\n",
    "\n",
    "print(\"🔄 Reinitializing WebDriver...\")\n",
    "\n",
    "options = webdriver.ChromeOptions()\n",
    "options.add_argument(\"--disable-blink-features=AutomationControlled\")\n",
    "options.add_experimental_option(\"excludeSwitches\", [\"enable-automation\"])\n",
    "options.add_experimental_option(\"useAutomationExtension\", False)\n",
    "\n",
    "driver = webdriver.Chrome(service=Service(ChromeDriverManager().install()), options=options)\n",
    "\n",
    "# ✅ Open HouseSigma for manual login\n",
    "driver.get(\"https://housesigma.com\")\n",
    "input(\"🔑 Press Enter after logging in manually...\")  # ⬅️ Login manually, then press Enter\n",
    "\n",
    "input_extracted_data = scraper.process_with_progress(input_df, driver, progress_interval=100)\n",
    "\n",
    "# ✅ Convert the extracted dictionary output into a DataFrame\n",
    "input_extracted_df = input_extracted_data.apply(pd.Series)\n",
    "\n",
    "# ✅ Close the browser after processing all listings\n",
    "driver.quit()\n",
    "print(input_extracted_df.shape)\n",
    "print(\"\\n✅ All listings processed. Browser closed.\")"
   ]
  },
  {
   "cell_type": "code",
   "execution_count": 21,
   "metadata": {},
   "outputs": [
    {
     "name": "stdout",
     "output_type": "stream",
     "text": [
      "DataFrame has been saved to 'input_extracted_data.csv'\n"
     ]
    }
   ],
   "source": [
    "# Save the DataFrame to a CSV file\n",
    "input_extracted_df.to_csv('input_extracted_data.csv', index=False)\n",
    "\n",
    "# Print a confirmation message\n",
    "print(\"DataFrame has been saved to 'input_extracted_data.csv'\")"
   ]
  }
 ],
 "metadata": {
  "kernelspec": {
   "display_name": "venv",
   "language": "python",
   "name": "python3"
  },
  "language_info": {
   "codemirror_mode": {
    "name": "ipython",
    "version": 3
   },
   "file_extension": ".py",
   "mimetype": "text/x-python",
   "name": "python",
   "nbconvert_exporter": "python",
   "pygments_lexer": "ipython3",
   "version": "3.13.1"
  }
 },
 "nbformat": 4,
 "nbformat_minor": 2
}
