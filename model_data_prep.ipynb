{
 "cells": [
  {
   "cell_type": "markdown",
   "metadata": {},
   "source": [
    "##### Load scraped data from csv file"
   ]
  },
  {
   "cell_type": "code",
   "execution_count": 18,
   "metadata": {},
   "outputs": [
    {
     "data": {
      "text/plain": [
       "<module 'scraper' from 'c:\\\\Users\\\\USER\\\\Documents\\\\HouseSigma Scraper\\\\housesigma-scraper\\\\scraper.py'>"
      ]
     },
     "execution_count": 18,
     "metadata": {},
     "output_type": "execute_result"
    }
   ],
   "source": [
    "import pandas as pd\n",
    "import scraper\n",
    "import importlib\n",
    "\n",
    "importlib.reload(scraper) "
   ]
  },
  {
   "cell_type": "code",
   "execution_count": 19,
   "metadata": {},
   "outputs": [
    {
     "name": "stdout",
     "output_type": "stream",
     "text": [
      "(764, 10)\n",
      "Index(['Asking Price', 'Sold Price', 'Address', 'Unit Type', 'Bedrooms',\n",
      "       'Bathrooms', 'Postal Code', 'Listing URL', 'Bedroom Category',\n",
      "       'Postal Code Area'],\n",
      "      dtype='object')\n",
      "\n",
      " ===================== \n",
      "\n",
      "Asking Price        float64\n",
      "Sold Price          float64\n",
      "Address              object\n",
      "Unit Type            object\n",
      "Bedrooms             object\n",
      "Bathrooms             int64\n",
      "Postal Code          object\n",
      "Listing URL          object\n",
      "Bedroom Category     object\n",
      "Postal Code Area     object\n",
      "dtype: object\n",
      "\n",
      " ===================== \n",
      "\n",
      "   Asking Price  Sold Price  \\\n",
      "0      998000.0    975000.0   \n",
      "1     1259000.0   1349000.0   \n",
      "2     3599900.0   3250000.0   \n",
      "3      825000.0    780000.0   \n",
      "4      559000.0    529000.0   \n",
      "\n",
      "                                             Address        Unit Type  \\\n",
      "0   623 - 88 Colgate Ave , Toronto - South Riverdale        Condo Apt   \n",
      "1  84A Aylesworth Ave , Scarborough - Birchcliffe...         Detached   \n",
      "2            501 Avonwood Dr , Mississauga - Mineola         Detached   \n",
      "3  314 - 199 Pine Grove Rd , Vaughan - East Woodb...  Condo Townhouse   \n",
      "4  517 - 168 Simcoe St , Toronto - Waterfront Com...        Condo Apt   \n",
      "\n",
      "  Bedrooms  Bathrooms Postal Code  \\\n",
      "0        2          2      M4M0A6   \n",
      "1        4          5      M1N2J6   \n",
      "2        4          4      L5G1Y8   \n",
      "3        2          2      L4L0H8   \n",
      "4        1          1      M5H4C9   \n",
      "\n",
      "                                         Listing URL Bedroom Category  \\\n",
      "0  https://housesigma.com/on/toronto-real-estate/...                2   \n",
      "1  https://housesigma.com/on/scarborough-real-est...               3+   \n",
      "2  https://housesigma.com/on/mississauga-real-est...               3+   \n",
      "3  https://housesigma.com/on/vaughan-real-estate/...                2   \n",
      "4  https://housesigma.com/on/toronto-real-estate/...                1   \n",
      "\n",
      "  Postal Code Area  \n",
      "0              M4M  \n",
      "1              M1N  \n",
      "2              L5G  \n",
      "3              L4L  \n",
      "4              M5H  \n"
     ]
    }
   ],
   "source": [
    "# Load the DataFrame from the CSV file\n",
    "input_df = pd.read_csv('filtered_sold_data.csv')\n",
    "input_df = input_df.drop_duplicates().reset_index(drop=True)\n",
    "\n",
    "print(input_df.shape)\n",
    "print(input_df.columns)\n",
    "print(\"\\n ===================== \\n\")\n",
    "print(input_df.dtypes)\n",
    "print(\"\\n ===================== \\n\")\n",
    "print(input_df.head())"
   ]
  },
  {
   "cell_type": "markdown",
   "metadata": {},
   "source": [
    "##### Extract maintenance fees from urls"
   ]
  },
  {
   "cell_type": "code",
   "execution_count": 20,
   "metadata": {},
   "outputs": [
    {
     "name": "stdout",
     "output_type": "stream",
     "text": [
      "🔄 Reinitializing WebDriver...\n",
      "🚀 Processing row 1/764\n",
      "🚀 Processing row 101/764\n",
      "🚀 Processing row 201/764\n",
      "🚀 Processing row 301/764\n",
      "🚀 Processing row 401/764\n",
      "🚀 Processing row 501/764\n",
      "🚀 Processing row 601/764\n",
      "🚀 Processing row 701/764\n",
      "🚀 Processing row 764/764\n",
      "(764, 3)\n",
      "\n",
      "✅ All listings processed. Browser closed.\n"
     ]
    }
   ],
   "source": [
    "from selenium import webdriver\n",
    "from selenium.webdriver.chrome.service import Service\n",
    "from webdriver_manager.chrome import ChromeDriverManager\n",
    "import time\n",
    "\n",
    "print(\"🔄 Reinitializing WebDriver...\")\n",
    "\n",
    "options = webdriver.ChromeOptions()\n",
    "options.add_argument(\"--disable-blink-features=AutomationControlled\")\n",
    "options.add_experimental_option(\"excludeSwitches\", [\"enable-automation\"])\n",
    "options.add_experimental_option(\"useAutomationExtension\", False)\n",
    "\n",
    "driver = webdriver.Chrome(service=Service(ChromeDriverManager().install()), options=options)\n",
    "\n",
    "# ✅ Open HouseSigma for manual login\n",
    "driver.get(\"https://housesigma.com\")\n",
    "input(\"🔑 Press Enter after logging in manually...\")  # ⬅️ Login manually, then press Enter\n",
    "\n",
    "input_extracted_data = scraper.process_with_progress(input_df, driver, progress_interval=100)\n",
    "\n",
    "# ✅ Convert the extracted dictionary output into a DataFrame\n",
    "input_extracted_df = input_extracted_data.apply(pd.Series)\n",
    "\n",
    "# ✅ Close the browser after processing all listings\n",
    "driver.quit()\n",
    "print(input_extracted_df.shape)\n",
    "print(\"\\n✅ All listings processed. Browser closed.\")"
   ]
  },
  {
   "cell_type": "code",
   "execution_count": 21,
   "metadata": {},
   "outputs": [
    {
     "name": "stdout",
     "output_type": "stream",
     "text": [
      "DataFrame has been saved to 'input_extracted_data.csv'\n"
     ]
    }
   ],
   "source": [
    "# Save the DataFrame to a CSV file\n",
    "input_extracted_df.to_csv('input_extracted_data.csv', index=False)\n",
    "\n",
    "# Print a confirmation message\n",
    "print(\"DataFrame has been saved to 'input_extracted_data.csv'\")"
   ]
  },
  {
   "cell_type": "code",
   "execution_count": 26,
   "metadata": {},
   "outputs": [
    {
     "name": "stdout",
     "output_type": "stream",
     "text": [
      "(764, 3)\n",
      "\n",
      " ===================== \n",
      "\n",
      "  Sold Days Ago  Maintenance Fees  \\\n",
      "0             5             708.0   \n",
      "1            11               0.0   \n",
      "2            11               0.0   \n",
      "3            11             414.0   \n",
      "4            12             728.0   \n",
      "\n",
      "                                    Unit Description  \n",
      "0  Inviting you to Suite 623 at the exceptional S...  \n",
      "1  Luxury, detached custom-built 4 bed + 5 bths +...  \n",
      "2  Where luxury is sprinkled with a traditional m...  \n",
      "3  Don't Miss This Exceptional Opportunity To Own...  \n",
      "4  Welcome to Tridel-Built 'Qwest' at Prime Locat...  \n"
     ]
    }
   ],
   "source": [
    "# Load the DataFrame from the CSV file\n",
    "input_extracted_df = pd.read_csv('input_extracted_data.csv')\n",
    "\n",
    "print(input_extracted_df.shape)\n",
    "print(\"\\n ===================== \\n\")\n",
    "\n",
    "# Extract numeric values from the 'Maintenance Fees' column\n",
    "input_extracted_df['Maintenance Fees'] = (\n",
    "    input_extracted_df['Maintenance Fees']\n",
    "    .str.replace(r'[^\\d.]', '', regex=True)  # Remove non-numeric characters\n",
    "    .replace('', '0')  # Replace empty strings with '0'\n",
    "    .astype(float)  # Convert to float\n",
    "    .fillna(0)  # Replace NaN with 0\n",
    ")\n",
    "\n",
    "# Print the first few rows to verify\n",
    "print(input_extracted_df.head())"
   ]
  },
  {
   "cell_type": "markdown",
   "metadata": {},
   "source": [
    "##### Merge input data and extracted data (sold days ago values, maintenance fees, unit description)"
   ]
  },
  {
   "cell_type": "code",
   "execution_count": 27,
   "metadata": {},
   "outputs": [
    {
     "name": "stdout",
     "output_type": "stream",
     "text": [
      "(764, 13)\n",
      "\n",
      " ===================== \n",
      "\n",
      "   Asking Price  Sold Price  \\\n",
      "0      998000.0    975000.0   \n",
      "1     1259000.0   1349000.0   \n",
      "2     3599900.0   3250000.0   \n",
      "3      825000.0    780000.0   \n",
      "4      559000.0    529000.0   \n",
      "\n",
      "                                             Address        Unit Type  \\\n",
      "0   623 - 88 Colgate Ave , Toronto - South Riverdale        Condo Apt   \n",
      "1  84A Aylesworth Ave , Scarborough - Birchcliffe...         Detached   \n",
      "2            501 Avonwood Dr , Mississauga - Mineola         Detached   \n",
      "3  314 - 199 Pine Grove Rd , Vaughan - East Woodb...  Condo Townhouse   \n",
      "4  517 - 168 Simcoe St , Toronto - Waterfront Com...        Condo Apt   \n",
      "\n",
      "  Bedrooms  Bathrooms Postal Code  \\\n",
      "0        2          2      M4M0A6   \n",
      "1        4          5      M1N2J6   \n",
      "2        4          4      L5G1Y8   \n",
      "3        2          2      L4L0H8   \n",
      "4        1          1      M5H4C9   \n",
      "\n",
      "                                         Listing URL Bedroom Category  \\\n",
      "0  https://housesigma.com/on/toronto-real-estate/...                2   \n",
      "1  https://housesigma.com/on/scarborough-real-est...               3+   \n",
      "2  https://housesigma.com/on/mississauga-real-est...               3+   \n",
      "3  https://housesigma.com/on/vaughan-real-estate/...                2   \n",
      "4  https://housesigma.com/on/toronto-real-estate/...                1   \n",
      "\n",
      "  Postal Code Area Sold Days Ago  Maintenance Fees  \\\n",
      "0              M4M             5             708.0   \n",
      "1              M1N            11               0.0   \n",
      "2              L5G            11               0.0   \n",
      "3              L4L            11             414.0   \n",
      "4              M5H            12             728.0   \n",
      "\n",
      "                                    Unit Description  \n",
      "0  Inviting you to Suite 623 at the exceptional S...  \n",
      "1  Luxury, detached custom-built 4 bed + 5 bths +...  \n",
      "2  Where luxury is sprinkled with a traditional m...  \n",
      "3  Don't Miss This Exceptional Opportunity To Own...  \n",
      "4  Welcome to Tridel-Built 'Qwest' at Prime Locat...  \n",
      "Merged DataFrame has been saved to 'merged_data.csv'\n"
     ]
    }
   ],
   "source": [
    "# Concatenate the DataFrames along the columns axis\n",
    "merged_df = pd.concat([input_df, input_extracted_df], axis=1)\n",
    "\n",
    "# Print the first few rows to verify\n",
    "print(merged_df.shape)\n",
    "print(\"\\n ===================== \\n\")\n",
    "print(merged_df.head())\n",
    "\n",
    "# Save the merged DataFrame to a new CSV file\n",
    "merged_df.to_csv('merged_data.csv', index=False)\n",
    "\n",
    "# Print a confirmation message\n",
    "print(\"Merged DataFrame has been saved to 'merged_data.csv'\")"
   ]
  },
  {
   "cell_type": "markdown",
   "metadata": {},
   "source": [
    "##### Check maintenance fees values for condo units"
   ]
  },
  {
   "cell_type": "code",
   "execution_count": 29,
   "metadata": {},
   "outputs": [
    {
     "name": "stdout",
     "output_type": "stream",
     "text": [
      "Number of rows where 'Unit Type' contains 'condo' and 'Maintenance Fees' are 0: 3\n",
      "     Asking Price  Sold Price  \\\n",
      "315      698000.0    680000.0   \n",
      "509      695000.0    640000.0   \n",
      "590      599000.0    525000.0   \n",
      "\n",
      "                                                         Address  Unit Type  \\\n",
      "315       608 - 8 Eglinton Ave E , Toronto - Mount Pleasant West  Condo Apt   \n",
      "509  809 - 77 Harbour Sq W , Toronto - Waterfront Communities C1  Condo Apt   \n",
      "590     3007 - 50 Charles St E , Toronto - Church-Yonge Corridor  Condo Apt   \n",
      "\n",
      "    Bedrooms  Bathrooms Postal Code  \\\n",
      "315        2          2      M4P0C1   \n",
      "509        1          1      M5J2S2   \n",
      "590        1          1      M4Y0C3   \n",
      "\n",
      "                                                                                   Listing URL  \\\n",
      "315  https://housesigma.com/on/toronto-real-estate/608-8-eglinton-ave-e/home/damgL7AqBJV7Z1MW/   \n",
      "509   https://housesigma.com/on/toronto-real-estate/809-77-harbour-sq-w/home/weQp5yOoorvyd0ZE/   \n",
      "590  https://housesigma.com/on/toronto-real-estate/3007-50-charles-st-e/home/oK8OgYBPQ0x7JmG2/   \n",
      "\n",
      "    Bedroom Category Postal Code Area Sold Days Ago  Maintenance Fees  \\\n",
      "315                2              M4P             1               0.0   \n",
      "509                1              M5J           NaN               0.0   \n",
      "590                1              M4Y             1               0.0   \n",
      "\n",
      "                                                                                                                                                                                                                                                                                                                                                                                                                                                                                                                                                                                                                                                                                                                                                                                                                                                                                                                                                                                                                             Unit Description  \n",
      "315  Experience Luxurious Living In This Stunning 2-bedroom, 2-bathroom Corner Unit At The Prestigious E-Condo Building. Offering 692sq. ft. Of Beautifully Designed Space With 9-foot Ceilings, Floor-To-Ceiling Windows, And An Open-Concept Layout, This Home Is Filled With Natural Light. The Modern Kitchen Features Sleek Built-In Appliances, While The Primary Bedroom Boasts A Private 3-Piece Ensuite And Walk-In Closet. Step Onto The Expansive 257 sq. ft. Wrap-Around Balcony And Take In Breathtaking Panoramic City Views From South To North. Located At Yonge & Eglinton, This Prime Spot Offers Quick Access To The Subway And Eglinton LRT, With Grocery Stores, Shopping, Dining, Parks, And Schools Just Steps Away. The Buildings Exceptional Amenities Include An expansive Indoor Lap Pool with Bar Lounge, Gym, Party Room, Yoga Studio, Media Room, Concierge Services, And More. Complete With Parking And Large Locker, This Unit Is A Rare Opportunity To Live In One Of Toronto's Most Vibrant Neighborhoods!  \n",
      "509                                                                                                                                                                                                                                                                               Amazing location on the waterfront . Walking distance to work and fun. This Large 1 bedroom condo is freshly painted and features a renovated bathroom with a double sink. The unit's storage is located just a few steps away and the unit boasts 3 large closets (bedroom , bath and front door). It is located on the 8th floor along with the pool, gym and other facilities (no waiting for the elevator ) . The services and amenities in the building are outstanding. Employees and unit owners are friendly and welcoming , creating an environment that feels like home. Save on TTC with private bus that services the downtown core. **EXTRAS** Included for Tenants use: Fridge, Stove, washer/dryer, dishwasher, Furnishings as per ScheduleC  \n",
      "590                                                                                       Fabulous CASA III, Located in Downtown's Yonge and Bloor neighborhood, Walk to Yorkville which is a celebration of the very best fashion, food, wellness and culture. Explore luxury shops, unique restaurants, world-class art galleries, and the best salons & spas Toronto has to offer. Enjoy this  Beautiful 1 Bedroom 1 Bath Condo In A Well Managed Building, Great Rental for students, Single or a couple, This unit comes with a locker for extra storage, Carpet Free, nice size Living with walkout to a large balcony, the kitchen offers stainless steel appliances, Quartz Counters and plenty of cabinets, Great size bedroom, Excellent Location, With Walking Distance To Bloor Subway, Yorkville Shopping, University Of Toronto, easy access to Ryerson University, Famous Restaurants, Ttc, Night Life, This Building Offers Great Facilities, 24 Hour Concierge, Gym, outdoor Pool With Sauna & Hot Tub, No Smoking building.  \n"
     ]
    }
   ],
   "source": [
    "# Filter the DataFrame for rows where 'Unit Type' contains 'Condo' (case-insensitive) and 'Maintenance Fees' are 0\n",
    "condo_zero_fees = merged_df[(merged_df['Unit Type'].str.contains('condo', case=False, na=False)) & (merged_df['Maintenance Fees'] == 0)]\n",
    "\n",
    "# Print the number of rows that match the criteria\n",
    "print(f\"Number of rows where 'Unit Type' contains 'condo' and 'Maintenance Fees' are 0: {condo_zero_fees.shape[0]}\")\n",
    "\n",
    "# Optionally, print the first few rows to verify\n",
    "pd.set_option('display.max_colwidth', None)\n",
    "print(condo_zero_fees.head())"
   ]
  }
 ],
 "metadata": {
  "kernelspec": {
   "display_name": "venv",
   "language": "python",
   "name": "python3"
  },
  "language_info": {
   "codemirror_mode": {
    "name": "ipython",
    "version": 3
   },
   "file_extension": ".py",
   "mimetype": "text/x-python",
   "name": "python",
   "nbconvert_exporter": "python",
   "pygments_lexer": "ipython3",
   "version": "3.13.1"
  }
 },
 "nbformat": 4,
 "nbformat_minor": 2
}
