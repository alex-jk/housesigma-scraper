{
 "cells": [
  {
   "cell_type": "markdown",
   "metadata": {},
   "source": [
    "##### Load scraped data from csv file"
   ]
  },
  {
   "cell_type": "code",
   "execution_count": 48,
   "metadata": {},
   "outputs": [
    {
     "data": {
      "text/plain": [
       "<module 'postal_codes_scraper' from 'c:\\\\Users\\\\USER\\\\Documents\\\\HouseSigma Scraper\\\\housesigma-scraper\\\\postal_codes_scraper.py'>"
      ]
     },
     "execution_count": 48,
     "metadata": {},
     "output_type": "execute_result"
    }
   ],
   "source": [
    "import pandas as pd\n",
    "import scraper\n",
    "import postal_codes_scraper\n",
    "import importlib\n",
    "from sklearn.pipeline import Pipeline\n",
    "\n",
    "importlib.reload(scraper)\n",
    "importlib.reload(postal_codes_scraper)"
   ]
  },
  {
   "cell_type": "code",
   "execution_count": 19,
   "metadata": {},
   "outputs": [
    {
     "name": "stdout",
     "output_type": "stream",
     "text": [
      "(764, 10)\n",
      "Index(['Asking Price', 'Sold Price', 'Address', 'Unit Type', 'Bedrooms',\n",
      "       'Bathrooms', 'Postal Code', 'Listing URL', 'Bedroom Category',\n",
      "       'Postal Code Area'],\n",
      "      dtype='object')\n",
      "\n",
      " ===================== \n",
      "\n",
      "Asking Price        float64\n",
      "Sold Price          float64\n",
      "Address              object\n",
      "Unit Type            object\n",
      "Bedrooms             object\n",
      "Bathrooms             int64\n",
      "Postal Code          object\n",
      "Listing URL          object\n",
      "Bedroom Category     object\n",
      "Postal Code Area     object\n",
      "dtype: object\n",
      "\n",
      " ===================== \n",
      "\n",
      "   Asking Price  Sold Price  \\\n",
      "0      998000.0    975000.0   \n",
      "1     1259000.0   1349000.0   \n",
      "2     3599900.0   3250000.0   \n",
      "3      825000.0    780000.0   \n",
      "4      559000.0    529000.0   \n",
      "\n",
      "                                             Address        Unit Type  \\\n",
      "0   623 - 88 Colgate Ave , Toronto - South Riverdale        Condo Apt   \n",
      "1  84A Aylesworth Ave , Scarborough - Birchcliffe...         Detached   \n",
      "2            501 Avonwood Dr , Mississauga - Mineola         Detached   \n",
      "3  314 - 199 Pine Grove Rd , Vaughan - East Woodb...  Condo Townhouse   \n",
      "4  517 - 168 Simcoe St , Toronto - Waterfront Com...        Condo Apt   \n",
      "\n",
      "  Bedrooms  Bathrooms Postal Code  \\\n",
      "0        2          2      M4M0A6   \n",
      "1        4          5      M1N2J6   \n",
      "2        4          4      L5G1Y8   \n",
      "3        2          2      L4L0H8   \n",
      "4        1          1      M5H4C9   \n",
      "\n",
      "                                         Listing URL Bedroom Category  \\\n",
      "0  https://housesigma.com/on/toronto-real-estate/...                2   \n",
      "1  https://housesigma.com/on/scarborough-real-est...               3+   \n",
      "2  https://housesigma.com/on/mississauga-real-est...               3+   \n",
      "3  https://housesigma.com/on/vaughan-real-estate/...                2   \n",
      "4  https://housesigma.com/on/toronto-real-estate/...                1   \n",
      "\n",
      "  Postal Code Area  \n",
      "0              M4M  \n",
      "1              M1N  \n",
      "2              L5G  \n",
      "3              L4L  \n",
      "4              M5H  \n"
     ]
    }
   ],
   "source": [
    "# Load the DataFrame from the CSV file\n",
    "input_df = pd.read_csv('filtered_sold_data.csv')\n",
    "input_df = input_df.drop_duplicates().reset_index(drop=True)\n",
    "\n",
    "print(input_df.shape)\n",
    "print(input_df.columns)\n",
    "print(\"\\n ===================== \\n\")\n",
    "print(input_df.dtypes)\n",
    "print(\"\\n ===================== \\n\")\n",
    "print(input_df.head())"
   ]
  },
  {
   "cell_type": "markdown",
   "metadata": {},
   "source": [
    "##### Extract maintenance fees from urls"
   ]
  },
  {
   "cell_type": "code",
   "execution_count": 20,
   "metadata": {},
   "outputs": [
    {
     "name": "stdout",
     "output_type": "stream",
     "text": [
      "🔄 Reinitializing WebDriver...\n",
      "🚀 Processing row 1/764\n",
      "🚀 Processing row 101/764\n",
      "🚀 Processing row 201/764\n",
      "🚀 Processing row 301/764\n",
      "🚀 Processing row 401/764\n",
      "🚀 Processing row 501/764\n",
      "🚀 Processing row 601/764\n",
      "🚀 Processing row 701/764\n",
      "🚀 Processing row 764/764\n",
      "(764, 3)\n",
      "\n",
      "✅ All listings processed. Browser closed.\n"
     ]
    }
   ],
   "source": [
    "from selenium import webdriver\n",
    "from selenium.webdriver.chrome.service import Service\n",
    "from webdriver_manager.chrome import ChromeDriverManager\n",
    "import time\n",
    "\n",
    "print(\"🔄 Reinitializing WebDriver...\")\n",
    "\n",
    "options = webdriver.ChromeOptions()\n",
    "options.add_argument(\"--disable-blink-features=AutomationControlled\")\n",
    "options.add_experimental_option(\"excludeSwitches\", [\"enable-automation\"])\n",
    "options.add_experimental_option(\"useAutomationExtension\", False)\n",
    "\n",
    "driver = webdriver.Chrome(service=Service(ChromeDriverManager().install()), options=options)\n",
    "\n",
    "# ✅ Open HouseSigma for manual login\n",
    "driver.get(\"https://housesigma.com\")\n",
    "input(\"🔑 Press Enter after logging in manually...\")  # ⬅️ Login manually, then press Enter\n",
    "\n",
    "input_extracted_data = scraper.process_with_progress(input_df, driver, progress_interval=100)\n",
    "\n",
    "# ✅ Convert the extracted dictionary output into a DataFrame\n",
    "input_extracted_df = input_extracted_data.apply(pd.Series)\n",
    "\n",
    "# ✅ Close the browser after processing all listings\n",
    "driver.quit()\n",
    "print(input_extracted_df.shape)\n",
    "print(\"\\n✅ All listings processed. Browser closed.\")"
   ]
  },
  {
   "cell_type": "code",
   "execution_count": 21,
   "metadata": {},
   "outputs": [
    {
     "name": "stdout",
     "output_type": "stream",
     "text": [
      "DataFrame has been saved to 'input_extracted_data.csv'\n"
     ]
    }
   ],
   "source": [
    "# Save the DataFrame to a CSV file\n",
    "input_extracted_df.to_csv('input_extracted_data.csv', index=False)\n",
    "\n",
    "# Print a confirmation message\n",
    "print(\"DataFrame has been saved to 'input_extracted_data.csv'\")"
   ]
  },
  {
   "cell_type": "code",
   "execution_count": 26,
   "metadata": {},
   "outputs": [
    {
     "name": "stdout",
     "output_type": "stream",
     "text": [
      "(764, 3)\n",
      "\n",
      " ===================== \n",
      "\n",
      "  Sold Days Ago  Maintenance Fees  \\\n",
      "0             5             708.0   \n",
      "1            11               0.0   \n",
      "2            11               0.0   \n",
      "3            11             414.0   \n",
      "4            12             728.0   \n",
      "\n",
      "                                    Unit Description  \n",
      "0  Inviting you to Suite 623 at the exceptional S...  \n",
      "1  Luxury, detached custom-built 4 bed + 5 bths +...  \n",
      "2  Where luxury is sprinkled with a traditional m...  \n",
      "3  Don't Miss This Exceptional Opportunity To Own...  \n",
      "4  Welcome to Tridel-Built 'Qwest' at Prime Locat...  \n"
     ]
    }
   ],
   "source": [
    "# Load the DataFrame from the CSV file\n",
    "input_extracted_df = pd.read_csv('input_extracted_data.csv')\n",
    "\n",
    "print(input_extracted_df.shape)\n",
    "print(\"\\n ===================== \\n\")\n",
    "\n",
    "# Extract numeric values from the 'Maintenance Fees' column\n",
    "input_extracted_df['Maintenance Fees'] = (\n",
    "    input_extracted_df['Maintenance Fees']\n",
    "    .str.replace(r'[^\\d.]', '', regex=True)  # Remove non-numeric characters\n",
    "    .replace('', '0')  # Replace empty strings with '0'\n",
    "    .astype(float)  # Convert to float\n",
    "    .fillna(0)  # Replace NaN with 0\n",
    ")\n",
    "\n",
    "# Print the first few rows to verify\n",
    "print(input_extracted_df.head())"
   ]
  },
  {
   "cell_type": "markdown",
   "metadata": {},
   "source": [
    "##### Merge input data and extracted data (sold days ago values, maintenance fees, unit description)"
   ]
  },
  {
   "cell_type": "code",
   "execution_count": 33,
   "metadata": {},
   "outputs": [
    {
     "name": "stdout",
     "output_type": "stream",
     "text": [
      "(764, 13)\n",
      "\n",
      " ===================== \n",
      "\n",
      "   Asking Price  Sold Price  \\\n",
      "0      998000.0    975000.0   \n",
      "1     1259000.0   1349000.0   \n",
      "2     3599900.0   3250000.0   \n",
      "3      825000.0    780000.0   \n",
      "4      559000.0    529000.0   \n",
      "\n",
      "                                                     Address        Unit Type  \\\n",
      "0           623 - 88 Colgate Ave , Toronto - South Riverdale        Condo Apt   \n",
      "1   84A Aylesworth Ave , Scarborough - Birchcliffe-Cliffside         Detached   \n",
      "2                    501 Avonwood Dr , Mississauga - Mineola         Detached   \n",
      "3        314 - 199 Pine Grove Rd , Vaughan - East Woodbridge  Condo Townhouse   \n",
      "4  517 - 168 Simcoe St , Toronto - Waterfront Communities C1        Condo Apt   \n",
      "\n",
      "  Bedrooms  Bathrooms Postal Code  \\\n",
      "0        2          2      M4M0A6   \n",
      "1        4          5      M1N2J6   \n",
      "2        4          4      L5G1Y8   \n",
      "3        2          2      L4L0H8   \n",
      "4        1          1      M5H4C9   \n",
      "\n",
      "                                                                                   Listing URL  \\\n",
      "0      https://housesigma.com/on/toronto-real-estate/623-88-colgate-ave/home/DnM697koZNd7bmwe/   \n",
      "1  https://housesigma.com/on/scarborough-real-estate/84a-aylesworth-ave/home/L5VXv3l1GlNYj2q8/   \n",
      "2     https://housesigma.com/on/mississauga-real-estate/501-avonwood-dr/home/DO1w3Wq1eJVy8Jg0/   \n",
      "3   https://housesigma.com/on/vaughan-real-estate/314-199-pine-grove-rd/home/a6zqW7dJrRXY5eZE/   \n",
      "4       https://housesigma.com/on/toronto-real-estate/517-168-simcoe-st/home/jJKdOYrdERj754lW/   \n",
      "\n",
      "  Bedroom Category Postal Code Area Sold Days Ago  Maintenance Fees  \\\n",
      "0                2              M4M             5             708.0   \n",
      "1               3+              M1N            11               0.0   \n",
      "2               3+              L5G            11               0.0   \n",
      "3                2              L4L            11             414.0   \n",
      "4                1              M5H            12             728.0   \n",
      "\n",
      "                                                                                                                                                                                                                                                                                                                                                                                                                                                                                                                                                                                                                                                                                                                                                                                                                                                                                                                                                                                                                                                                                                                                                                                                                                                                                                                                                                                                                                                                                                                                                                                                                                                                                                                                                                                                                                                                                                                  Unit Description  \n",
      "0  Inviting you to Suite 623 at the exceptional Showcase Lofts in prime Leslieville. A staple of this thriving community, Showcase Lofts has timeless curb appeal and is arguably one of the best investments in the neighbourhood. Walking into the building you will be greeted by your 24Hr concierge, mail & parcel room, bright fully equipped gym, and party room that opens to a private courtyard with a BBQ area perfect for private gatherings. Arrive on the 6th floor into this sunny south facing 2 bedroom suite. The first thing that will catch your eye is the classic exposed red brick feature wall, signature of the Showcase Lofts. This gives the suite a charming authentic loft feeling while being in a newer building. Enjoy cooking or entertaining in the highly functional U-shape kitchen with full size gas range, large stone countertop island with seating, and built in wine storage. Step out to the oversized south facing covered balcony with room for outdoor dining, sun lounges, and to fill with plants who will love the sun. Enjoy treetop views of Leslieville and to the west the CN Tower & cityscape which is stunning at night. Enjoy another walk out from your second bedroom which currently functions as a home office den. This special space has a custom built in bar perfect for cozying up with a cocktail or heading out to the balcony in the summer. Across from the second bedroom you will find a full bath beside your brand new washer & dryer utility closet. The oversized primary bedroom easily accommodates a king size bed along with another potential seating area. Heading through to your ensuite bath you will enjoy custom mirrored double closets. For extra storage use your conveniently located suite level locker. Two owned bike racks and underground parking included. Enjoy the ultimate Leslieville lifestyle in Showcase Lofts Suite 623.  \n",
      "1                                                                                                                                                                                                                                                                                                                                                                                                                                                                                                                                                                                                                                                                                                                                                                                                                                                                                                                                                                                                                                                                                                                          Luxury, detached custom-built 4 bed + 5 bths + finished basement in Birchcliffe-Cliffside.Steps to TTC, rec centre w/pool, park, shopping. Modern open concept split-level layout, hardwood floors, pot-lights throughout main level, crown mouldings, high ceilings. Eat-in kitchen with 10' centre island, stone counters, gas stove. Family room features 12' ceil, walk-out to deck, build-in fireplace, skylight. Main bedroom includes 4-pc ensuite with Soaker Tub & glass Shower, Walk-In Closet, Tray ceiling. Second Bdrm features 3-pc bathroom w/window. Finished basement with walk-out to garden, 9' ceil, laminate flooring & 3-Pc bath makes a great in-law or nanny suite. Minutes drive to Main, Warden, Kennedy stations, 5 mins to Go station, Bluffs parks, 30 min to downtown TO.  \n",
      "2                                                                                                                                                                                                                                                                                                                                                                                                                                                                                                                                                        Where luxury is sprinkled with a traditional mix of classic and modern styles! This custom home is a true design masterpiece located in the highly desirable Mineola neighbourhood. It boasts high-end finishes and an abundance of natural light. A white oak staircase and floors, combined with custom millwork, add a touch of elegance, while 10-foot ceilings enhance the spacious ambiance. The gourmet kitchen is a chefs paradise, featuring a double island, Caesarstone countertops, and a walk-in pantry with a custom solid red oak arched doorway. The open-concept layout seamlessly connects the kitchen to the family and dining rooms, with iron-framed full-glass French doors leading to a separate living room. Additionally, there is an office/den on the main floor. Upstairs, you will find four bedrooms, each with its own bathroom. The primary bedroom is a luxurious retreat with a wet bar, two walk-in closets, custom cabinetry, and a spa-like ensuite. Lower level is ready for your personal touch, with a separate walk-up entrance for potential additional living space. This home perfectly blends style and functionality, offering a comfortable and elegant living experience. **EXTRAS** Existing appliances (refrigerator, gas stove, dishwasher, washer/dryer, microwave, bar fridge), light fixtures. hot water on demand.  \n",
      "3                                                                                                                                                                                                                                                                                                                                                                                                                                                                                                                                                                                                             Don't Miss This Exceptional Opportunity To Own A Stunning, Modern Luxury Bungalow-Style Stacked Townhouse With Breathtaking Views Of The Humber River And Surrounding Green Space. This Impeccably Maintained 2-Bedroom, 2-Bathroom Unit Features A Spacious Open-Concept Floor Plan With Chic Modern Finishes, 9-Foot Ceilings, And Large Windows That Flood The Space With Natural Light. A very Large 882 square feet Unit. Enjoy The Convenience Of 'Two Walk-Out Balconies', An Upgraded Kitchen, A Large Primary Bedroom With An Ensuite Bath, And A Dedicated Parking Spot. This Home Offers The Perfect Blend Of Stylish Interior Design And Outdoor Enjoyment, With One Balcony Overlooking The Serene Humber River. Boasting One Of The Best Layouts In The Development And No Stairs!!, This Rare Turnkey Unit Is Located In The Highly Sought-After Islington Woods Community Of Woodbridge. Enjoy Easy Access To Top-Notch Amenities, Including Highways, Retail Stores, Market Lane, Schools, Recreational Centers, Places Of Worship, Parks, Nature Trails, And More! **EXTRAS** Stainless Steel , Washer & Dryer, Upgraded Kitchen Cabinets and Quartz Countertops, Upgraded ELF' and Window Coverings, 2 Walk-Out's to Balconies, 9' Smooth Ceilings, Primary Bedroom Ensuite, 1 Parking, 1 Locker.  \n",
      "4                                                                                                                                                                                                                                                                                                                                                                                                                                                                                                                                                                                                                                                                                                                                                                                                                                                                                                                                                                                                                                                                                                                                                                                                                                                                                                  Welcome to Tridel-Built 'Qwest' at Prime Location at Queen & University! Enjoy short walk to Queen Street, CN Tower, Princess of Wales Theatre, Eaton Centre or any other hotspot the entertainment district has to offer. 1 Min Walk to TTC Osgoode Station! This affordable, spacious 653 sq ft's 1 Bedroom 1 Bathroom suite features functional and open-concept layouts, renovated kitchens with modern appliances and granite countertops, bedroom with spacious walk-in closet.24h security, amenities include: whirlpool, change rooms with sauna, billiard room, party room. rooftop terrace with BBQs, fitness centre.  \n",
      "Merged DataFrame has been saved to 'merged_data.csv'\n"
     ]
    },
    {
     "name": "stderr",
     "output_type": "stream",
     "text": [
      "C:\\Users\\USER\\AppData\\Local\\Temp\\ipykernel_4104\\1331898352.py:4: FutureWarning: A value is trying to be set on a copy of a DataFrame or Series through chained assignment using an inplace method.\n",
      "The behavior will change in pandas 3.0. This inplace method will never work because the intermediate object on which we are setting values always behaves as a copy.\n",
      "\n",
      "For example, when doing 'df[col].method(value, inplace=True)', try using 'df.method({col: value}, inplace=True)' or df[col] = df[col].method(value) instead, to perform the operation inplace on the original object.\n",
      "\n",
      "\n",
      "  merged_df['Sold Days Ago'].fillna(0, inplace=True)\n"
     ]
    }
   ],
   "source": [
    "# Concatenate the DataFrames along the columns axis\n",
    "merged_df = pd.concat([input_df, input_extracted_df], axis=1)\n",
    "\n",
    "merged_df['Sold Days Ago'].fillna(0, inplace=True)\n",
    "\n",
    "# Print the first few rows to verify\n",
    "print(merged_df.shape)\n",
    "print(\"\\n ===================== \\n\")\n",
    "print(merged_df.head())\n",
    "\n",
    "# Save the merged DataFrame to a new CSV file\n",
    "merged_df.to_csv('merged_data.csv', index=False)\n",
    "\n",
    "# Print a confirmation message\n",
    "print(\"Merged DataFrame has been saved to 'merged_data.csv'\")"
   ]
  },
  {
   "cell_type": "markdown",
   "metadata": {},
   "source": [
    "##### Check maintenance fees values for condo units"
   ]
  },
  {
   "cell_type": "code",
   "execution_count": 34,
   "metadata": {},
   "outputs": [
    {
     "name": "stdout",
     "output_type": "stream",
     "text": [
      "Number of rows where 'Unit Type' contains 'condo' and 'Maintenance Fees' are 0: 3\n",
      "     Asking Price  Sold Price  \\\n",
      "315      698000.0    680000.0   \n",
      "509      695000.0    640000.0   \n",
      "590      599000.0    525000.0   \n",
      "\n",
      "                                                         Address  Unit Type  \\\n",
      "315       608 - 8 Eglinton Ave E , Toronto - Mount Pleasant West  Condo Apt   \n",
      "509  809 - 77 Harbour Sq W , Toronto - Waterfront Communities C1  Condo Apt   \n",
      "590     3007 - 50 Charles St E , Toronto - Church-Yonge Corridor  Condo Apt   \n",
      "\n",
      "    Bedrooms  Bathrooms Postal Code  \\\n",
      "315        2          2      M4P0C1   \n",
      "509        1          1      M5J2S2   \n",
      "590        1          1      M4Y0C3   \n",
      "\n",
      "                                                                                   Listing URL  \\\n",
      "315  https://housesigma.com/on/toronto-real-estate/608-8-eglinton-ave-e/home/damgL7AqBJV7Z1MW/   \n",
      "509   https://housesigma.com/on/toronto-real-estate/809-77-harbour-sq-w/home/weQp5yOoorvyd0ZE/   \n",
      "590  https://housesigma.com/on/toronto-real-estate/3007-50-charles-st-e/home/oK8OgYBPQ0x7JmG2/   \n",
      "\n",
      "    Bedroom Category Postal Code Area Sold Days Ago  Maintenance Fees  \\\n",
      "315                2              M4P             1               0.0   \n",
      "509                1              M5J             0               0.0   \n",
      "590                1              M4Y             1               0.0   \n",
      "\n",
      "                                                                                                                                                                                                                                                                                                                                                                                                                                                                                                                                                                                                                                                                                                                                                                                                                                                                                                                                                                                                                             Unit Description  \n",
      "315  Experience Luxurious Living In This Stunning 2-bedroom, 2-bathroom Corner Unit At The Prestigious E-Condo Building. Offering 692sq. ft. Of Beautifully Designed Space With 9-foot Ceilings, Floor-To-Ceiling Windows, And An Open-Concept Layout, This Home Is Filled With Natural Light. The Modern Kitchen Features Sleek Built-In Appliances, While The Primary Bedroom Boasts A Private 3-Piece Ensuite And Walk-In Closet. Step Onto The Expansive 257 sq. ft. Wrap-Around Balcony And Take In Breathtaking Panoramic City Views From South To North. Located At Yonge & Eglinton, This Prime Spot Offers Quick Access To The Subway And Eglinton LRT, With Grocery Stores, Shopping, Dining, Parks, And Schools Just Steps Away. The Buildings Exceptional Amenities Include An expansive Indoor Lap Pool with Bar Lounge, Gym, Party Room, Yoga Studio, Media Room, Concierge Services, And More. Complete With Parking And Large Locker, This Unit Is A Rare Opportunity To Live In One Of Toronto's Most Vibrant Neighborhoods!  \n",
      "509                                                                                                                                                                                                                                                                               Amazing location on the waterfront . Walking distance to work and fun. This Large 1 bedroom condo is freshly painted and features a renovated bathroom with a double sink. The unit's storage is located just a few steps away and the unit boasts 3 large closets (bedroom , bath and front door). It is located on the 8th floor along with the pool, gym and other facilities (no waiting for the elevator ) . The services and amenities in the building are outstanding. Employees and unit owners are friendly and welcoming , creating an environment that feels like home. Save on TTC with private bus that services the downtown core. **EXTRAS** Included for Tenants use: Fridge, Stove, washer/dryer, dishwasher, Furnishings as per ScheduleC  \n",
      "590                                                                                       Fabulous CASA III, Located in Downtown's Yonge and Bloor neighborhood, Walk to Yorkville which is a celebration of the very best fashion, food, wellness and culture. Explore luxury shops, unique restaurants, world-class art galleries, and the best salons & spas Toronto has to offer. Enjoy this  Beautiful 1 Bedroom 1 Bath Condo In A Well Managed Building, Great Rental for students, Single or a couple, This unit comes with a locker for extra storage, Carpet Free, nice size Living with walkout to a large balcony, the kitchen offers stainless steel appliances, Quartz Counters and plenty of cabinets, Great size bedroom, Excellent Location, With Walking Distance To Bloor Subway, Yorkville Shopping, University Of Toronto, easy access to Ryerson University, Famous Restaurants, Ttc, Night Life, This Building Offers Great Facilities, 24 Hour Concierge, Gym, outdoor Pool With Sauna & Hot Tub, No Smoking building.  \n"
     ]
    }
   ],
   "source": [
    "# Filter the DataFrame for rows where 'Unit Type' contains 'Condo' (case-insensitive) and 'Maintenance Fees' are 0\n",
    "condo_zero_fees = merged_df[(merged_df['Unit Type'].str.contains('condo', case=False, na=False)) & (merged_df['Maintenance Fees'] == 0)]\n",
    "\n",
    "# Print the number of rows that match the criteria\n",
    "print(f\"Number of rows where 'Unit Type' contains 'condo' and 'Maintenance Fees' are 0: {condo_zero_fees.shape[0]}\")\n",
    "\n",
    "# Optionally, print the first few rows to verify\n",
    "pd.set_option('display.max_colwidth', None)\n",
    "print(condo_zero_fees.head())"
   ]
  },
  {
   "cell_type": "markdown",
   "metadata": {},
   "source": [
    "##### If there are only several rows missing maintenace fees, can enter them manually"
   ]
  },
  {
   "cell_type": "code",
   "execution_count": 35,
   "metadata": {},
   "outputs": [],
   "source": [
    "updates = [\n",
    "    (315, 877.00),\n",
    "    (509, 974.00),\n",
    "    (590, 522.00)\n",
    "]\n",
    "\n",
    "for idx, fee in updates:\n",
    "    merged_df.loc[idx, 'Maintenance Fees'] = fee"
   ]
  },
  {
   "cell_type": "code",
   "execution_count": 36,
   "metadata": {},
   "outputs": [],
   "source": [
    "merged_df.to_csv(\"merged_data.csv\", index=False)"
   ]
  },
  {
   "cell_type": "markdown",
   "metadata": {},
   "source": [
    "##### Create more features for predictive model"
   ]
  },
  {
   "cell_type": "code",
   "execution_count": 3,
   "metadata": {},
   "outputs": [
    {
     "name": "stdout",
     "output_type": "stream",
     "text": [
      "Index(['Asking Price', 'Sold Price', 'Address', 'Unit Type', 'Bedrooms',\n",
      "       'Bathrooms', 'Postal Code', 'Listing URL', 'Bedroom Category',\n",
      "       'Postal Code Area', 'Sold Days Ago', 'Maintenance Fees',\n",
      "       'Unit Description'],\n",
      "      dtype='object')\n",
      "\n",
      " ===================== \n",
      "\n",
      "116\n"
     ]
    }
   ],
   "source": [
    "# Load the merged DataFrame from the CSV file\n",
    "merged_df = pd.read_csv('merged_data.csv')\n",
    "\n",
    "print(merged_df.columns)\n",
    "print(\"\\n ===================== \\n\")\n",
    "print(len(merged_df['Postal Code Area'].unique()))"
   ]
  },
  {
   "cell_type": "markdown",
   "metadata": {},
   "source": [
    "##### Determine Postal Code Area coordinates"
   ]
  },
  {
   "cell_type": "code",
   "execution_count": 4,
   "metadata": {},
   "outputs": [
    {
     "data": {
      "text/plain": [
       "(43.651, -79.34)"
      ]
     },
     "execution_count": 4,
     "metadata": {},
     "output_type": "execute_result"
    }
   ],
   "source": [
    "postal_codes_scraper.get_lat_lon_from_geonames(\"m4m\")"
   ]
  },
  {
   "cell_type": "code",
   "execution_count": 5,
   "metadata": {},
   "outputs": [
    {
     "name": "stdout",
     "output_type": "stream",
     "text": [
      "M2R -> Lat: 43.7786, Lon: -79.445, Place: Willowdale West, Province: Ontario\n",
      "M4M -> Lat: 43.6561, Lon: -79.3406, Place: East Toronto (Studio District), Province: Ontario\n",
      "M5R -> Lat: 43.6736, Lon: -79.4035, Place: Central Toronto (The Annex / North Midtown / Yorkville), Province: Ontario\n",
      "M3C -> Lat: 43.7334, Lon: -79.3329, Place: Don Mills South (Flemingdon Park), Province: Ontario\n"
     ]
    }
   ],
   "source": [
    "import pgeocode\n",
    "\n",
    "# Initialize the pgeocode Nominatim for Canada\n",
    "nomi = pgeocode.Nominatim('ca')\n",
    "\n",
    "# Suppose you have a list of postal codes\n",
    "postal_codes = [\"M2R\", \"M4M\", \"M5R\", \"M3C\"]\n",
    "\n",
    "# Option 1: Query them in a simple loop\n",
    "for pc in postal_codes:\n",
    "    result = nomi.query_postal_code(pc)\n",
    "    print(f\"{pc} -> Lat: {result.latitude}, Lon: {result.longitude}, Place: {result.place_name}, Province: {result.state_name}\")"
   ]
  },
  {
   "cell_type": "markdown",
   "metadata": {},
   "source": [
    "###### Determine Postal Code Area coordinates and distance from key places"
   ]
  },
  {
   "cell_type": "code",
   "execution_count": 6,
   "metadata": {},
   "outputs": [
    {
     "name": "stdout",
     "output_type": "stream",
     "text": [
      "   Asking Price  Sold Price  \\\n",
      "0      998000.0    975000.0   \n",
      "1     1259000.0   1349000.0   \n",
      "2     3599900.0   3250000.0   \n",
      "3      825000.0    780000.0   \n",
      "4      559000.0    529000.0   \n",
      "5     1399999.0   1430000.0   \n",
      "6     1295000.0   1249000.0   \n",
      "7     1458900.0   1415000.0   \n",
      "8      708000.0    668000.0   \n",
      "9     1079000.0   1070000.0   \n",
      "\n",
      "                                             Address        Unit Type  \\\n",
      "0   623 - 88 Colgate Ave , Toronto - South Riverdale        Condo Apt   \n",
      "1  84A Aylesworth Ave , Scarborough - Birchcliffe...         Detached   \n",
      "2            501 Avonwood Dr , Mississauga - Mineola         Detached   \n",
      "3  314 - 199 Pine Grove Rd , Vaughan - East Woodb...  Condo Townhouse   \n",
      "4  517 - 168 Simcoe St , Toronto - Waterfront Com...        Condo Apt   \n",
      "5          22 Sgotto Blvd , Vaughan - Sonoma Heights         Detached   \n",
      "6         63 Thatcher Ave , Scarborough - Cliffcrest         Detached   \n",
      "7  611 - 1 Belsize Dr , Toronto - Mount Pleasant ...        Condo Apt   \n",
      "8  LPH 03 - 55 Bloor St E , Toronto - Church-Yong...        Condo Apt   \n",
      "9         4254 Poltava Cres , Mississauga - Rathwood         Detached   \n",
      "\n",
      "  Bedrooms  Bathrooms Postal Code  \\\n",
      "0        2          2      M4M0A6   \n",
      "1        4          5      M1N2J6   \n",
      "2        4          4      L5G1Y8   \n",
      "3        2          2      L4L0H8   \n",
      "4        1          1      M5H4C9   \n",
      "5        3          4      L4H1X1   \n",
      "6        3          3      M1M2M3   \n",
      "7        2          3      M4S0B9   \n",
      "8        2          2      M4W3W6   \n",
      "9        4          2      L4W3C2   \n",
      "\n",
      "                                         Listing URL Bedroom Category  \\\n",
      "0  https://housesigma.com/on/toronto-real-estate/...                2   \n",
      "1  https://housesigma.com/on/scarborough-real-est...               3+   \n",
      "2  https://housesigma.com/on/mississauga-real-est...               3+   \n",
      "3  https://housesigma.com/on/vaughan-real-estate/...                2   \n",
      "4  https://housesigma.com/on/toronto-real-estate/...                1   \n",
      "5  https://housesigma.com/on/vaughan-real-estate/...               3+   \n",
      "6  https://housesigma.com/on/scarborough-real-est...               3+   \n",
      "7  https://housesigma.com/on/toronto-real-estate/...                2   \n",
      "8  https://housesigma.com/on/toronto-real-estate/...                2   \n",
      "9  https://housesigma.com/on/mississauga-real-est...               3+   \n",
      "\n",
      "  Postal Code Area  ... Maintenance Fees  \\\n",
      "0              M4M  ...            708.0   \n",
      "1              M1N  ...              0.0   \n",
      "2              L5G  ...              0.0   \n",
      "3              L4L  ...            414.0   \n",
      "4              M5H  ...            728.0   \n",
      "5              L4H  ...              0.0   \n",
      "6              M1M  ...              0.0   \n",
      "7              M4S  ...            945.0   \n",
      "8              M4W  ...            980.0   \n",
      "9              L4W  ...              0.0   \n",
      "\n",
      "                                    Unit Description Latitude  Longitude  \\\n",
      "0  Inviting you to Suite 623 at the exceptional S...  43.6561   -79.3406   \n",
      "1  Luxury, detached custom-built 4 bed + 5 bths +...  43.6952   -79.2646   \n",
      "2  Where luxury is sprinkled with a traditional m...  43.5647   -79.5852   \n",
      "3  Don't Miss This Exceptional Opportunity To Own...  43.8064   -79.5995   \n",
      "4  Welcome to Tridel-Built 'Qwest' at Prime Locat...  43.6496   -79.3833   \n",
      "5  This beautifully updated 3-bedroom home in the...  43.8432   -79.5644   \n",
      "6  Experience modern elegance blended with sophis...  43.7247   -79.2312   \n",
      "7  Welcome to J. Davis House, a boutique building...  43.7020   -79.3853   \n",
      "8  LPH#3 - 2 Bathrooms. 2 Bedrooms. An Extraordin...  43.6827   -79.3730   \n",
      "9  Welcome to 4254 Poltava Crescent, a charming r...  43.6413   -79.6296   \n",
      "\n",
      "   Distance_to_Location_1  Distance_to_Location_2  Distance_to_Location_3  \\\n",
      "0               15.011980               15.307102                7.292665   \n",
      "1               15.379054               18.656818               10.741661   \n",
      "2               27.521274               21.574069               21.979252   \n",
      "3               15.080801               11.424226               19.677268   \n",
      "4               14.692427               13.431568                6.528979   \n",
      "5               13.882979               12.619979               20.231416   \n",
      "6               16.073821               20.628735               13.478201   \n",
      "7                8.977701                9.394572                1.110856   \n",
      "8               11.317383               11.417979                3.360256   \n",
      "9               23.097666               16.344296               20.167399   \n",
      "\n",
      "   Distance_to_Location_4  Distance_to_Location_5  Distance_to_Location_6  \n",
      "0                9.096345                5.996930                3.511740  \n",
      "1               13.911305               11.131552               10.931820  \n",
      "2               19.072872               20.027990               18.730342  \n",
      "3               17.743104               20.748001               25.048159  \n",
      "4                6.952038                4.361774                0.466534  \n",
      "5               19.067457               21.776831               26.435370  \n",
      "6               16.848590               14.420108               14.980927  \n",
      "7                4.194452                2.201606                6.275911  \n",
      "8                5.458026                2.385073                4.183174  \n",
      "9               16.774203               19.018508               20.011803  \n",
      "\n",
      "[10 rows x 21 columns]\n"
     ]
    }
   ],
   "source": [
    "geocoder = postal_codes_scraper.PostalCodeGeocoder(postal_code_col='Postal Code Area')\n",
    "\n",
    "df_subset = merged_df.head(10)\n",
    "geocoder.fit(df_subset)  # Important! Initializes self.nomi_\n",
    "df_with_coords = geocoder.transform(df_subset)\n",
    "print(df_with_coords)"
   ]
  },
  {
   "cell_type": "markdown",
   "metadata": {},
   "source": [
    "*Check number of bedroom values*"
   ]
  },
  {
   "cell_type": "code",
   "execution_count": 7,
   "metadata": {},
   "outputs": [
    {
     "name": "stdout",
     "output_type": "stream",
     "text": [
      "['2' '4' '1' '3' '1+1' '3+4' '2+1' '3+1' '5+1' '4+2' '4+3' '4+1' '3+2'\n",
      " '3+3' '5' '5+2' '4+4' '2+2' '8' '0' '0+1' '6+1' '6']\n",
      "Bedrooms\n",
      "2      161\n",
      "3      121\n",
      "1+1     90\n",
      "3+1     81\n",
      "2+1     74\n",
      "1       58\n",
      "4       54\n",
      "4+1     40\n",
      "4+2     20\n",
      "5       13\n",
      "3+2     12\n",
      "3+3      8\n",
      "5+1      8\n",
      "2+2      5\n",
      "4+3      4\n",
      "0        4\n",
      "5+2      4\n",
      "4+4      2\n",
      "3+4      1\n",
      "8        1\n",
      "0+1      1\n",
      "6+1      1\n",
      "6        1\n",
      "Name: count, dtype: int64\n"
     ]
    }
   ],
   "source": [
    "print(merged_df['Bedrooms'].unique())\n",
    "\n",
    "# Print counts by 'Bedrooms'\n",
    "bedroom_counts = merged_df['Bedrooms'].value_counts()\n",
    "\n",
    "# Print the counts\n",
    "print(bedroom_counts)"
   ]
  },
  {
   "cell_type": "markdown",
   "metadata": {},
   "source": [
    "*Check unit descriptions*"
   ]
  },
  {
   "cell_type": "code",
   "execution_count": 39,
   "metadata": {},
   "outputs": [
    {
     "name": "stdout",
     "output_type": "stream",
     "text": [
      "Luxury, detached custom-built 4 bed + 5 bths + finished basement in Birchcliffe-Cliffside.Steps to TTC, rec centre w/pool, park, shopping. Modern open concept split-level layout, hardwood floors, pot-lights throughout main level, crown mouldings, high ceilings. Eat-in kitchen with 10' centre island, stone counters, gas stove. Family room features 12' ceil, walk-out to deck, build-in fireplace, skylight. Main bedroom includes 4-pc ensuite with Soaker Tub & glass Shower, Walk-In Closet, Tray ceiling. Second Bdrm features 3-pc bathroom w/window. Finished basement with walk-out to garden, 9' ceil, laminate flooring & 3-Pc bath makes a great in-law or nanny suite. Minutes drive to Main, Warden, Kennedy stations, 5 mins to Go station, Bluffs parks, 30 min to downtown TO.\n"
     ]
    }
   ],
   "source": [
    "print(merged_df['Unit Description'][1])"
   ]
  },
  {
   "cell_type": "markdown",
   "metadata": {},
   "source": [
    "*Select number of topics for Unit Description topic modeling*"
   ]
  },
  {
   "cell_type": "code",
   "execution_count": 40,
   "metadata": {},
   "outputs": [
    {
     "name": "stderr",
     "output_type": "stream",
     "text": [
      "c:\\Users\\USER\\Documents\\HouseSigma Scraper\\housesigma-scraper\\venv\\Lib\\site-packages\\sklearn\\decomposition\\_nmf.py:1742: ConvergenceWarning: Maximum number of iterations 200 reached. Increase it to improve convergence.\n",
      "  warnings.warn(\n"
     ]
    },
    {
     "data": {
      "image/png": "[encoded data removed]",
      "text/plain": [
       "<Figure size 800x500 with 1 Axes>"
      ]
     },
     "metadata": {},
     "output_type": "display_data"
    }
   ],
   "source": [
    "postal_codes_scraper.find_best_num_topics(merged_df, text_col='Unit Description', max_topics=10)"
   ]
  },
  {
   "cell_type": "code",
   "execution_count": 24,
   "metadata": {},
   "outputs": [
    {
     "name": "stdout",
     "output_type": "stream",
     "text": [
      "\n",
      "=== Testing with 5 Topics ===\n",
      "Topic 1: [('perfect', '0.57'), ('offers', '0.50'), ('convenience', '0.49'), ('home', '0.47'), ('living', '0.40'), ('miss', '0.40'), ('space', '0.39'), ('comfort', '0.38'), ('don', '0.38'), ('vibrant', '0.36'), ('just', '0.36')]\n",
      "Topic 2: [('building', '0.43'), ('amenities', '0.42'), ('unit', '0.41'), ('concierge', '0.37'), ('pool', '0.37'), ('room', '0.37'), ('party', '0.36'), ('parking', '0.35'), ('condo', '0.34'), ('gym', '0.34'), ('party room', '0.33')]\n",
      "Topic 3: [('room', '0.38'), ('primary', '0.35'), ('main', '0.33'), ('custom', '0.32'), ('level', '0.32'), ('floor', '0.32'), ('family', '0.31'), ('walk', '0.31'), ('piece', '0.31'), ('closet', '0.30'), ('ensuite', '0.30')]\n",
      "Topic 4: [('basement', '0.53'), ('home', '0.40'), ('separate', '0.37'), ('entrance', '0.37'), ('detached', '0.36'), ('schools', '0.35'), ('finished', '0.33'), ('lot', '0.32'), ('backyard', '0.31'), ('family', '0.31'), ('finished basement', '0.30')]\n",
      "Topic 5: [('washer', '0.47'), ('dryer', '0.47'), ('washer dryer', '0.45'), ('stainless', '0.42'), ('fridge', '0.41'), ('steel', '0.41'), ('stainless steel', '0.40'), ('stove', '0.40'), ('dishwasher', '0.39'), ('new', '0.38'), ('extras', '0.34')]\n",
      "\n",
      "=== Testing with 7 Topics ===\n",
      "Topic 1: [('perfect', '0.62'), ('home', '0.55'), ('offers', '0.53'), ('convenience', '0.51'), ('miss', '0.46'), ('don', '0.43'), ('living', '0.42'), ('space', '0.42'), ('comfort', '0.42'), ('don miss', '0.41'), ('just', '0.41')]\n",
      "Topic 2: [('building', '0.47'), ('amenities', '0.47'), ('pool', '0.43'), ('gym', '0.43'), ('concierge', '0.43'), ('party', '0.42'), ('room', '0.41'), ('party room', '0.41'), ('indoor', '0.40'), ('24', '0.39'), ('unit', '0.37')]\n",
      "Topic 3: [('room', '0.43'), ('level', '0.38'), ('primary', '0.36'), ('family', '0.35'), ('main', '0.35'), ('custom', '0.35'), ('piece', '0.34'), ('walk', '0.33'), ('fireplace', '0.31'), ('space', '0.31'), ('closet', '0.30')]\n",
      "Topic 4: [('basement', '0.56'), ('entrance', '0.39'), ('home', '0.38'), ('detached', '0.38'), ('separate', '0.37'), ('finished', '0.36'), ('schools', '0.35'), ('finished basement', '0.33'), ('backyard', '0.32'), ('lot', '0.32'), ('separate entrance', '0.31')]\n",
      "Topic 5: [('steel', '0.69'), ('stainless', '0.69'), ('stainless steel', '0.69'), ('steel appliances', '0.63'), ('stainless steel appliances', '0.63'), ('appliances', '0.49'), ('quartz', '0.30'), ('countertops', '0.29'), ('backsplash', '0.24'), ('kitchen', '0.23'), ('quartz countertops', '0.19')]\n",
      "Topic 6: [('dryer', '0.68'), ('washer', '0.68'), ('washer dryer', '0.65'), ('fridge', '0.62'), ('stove', '0.61'), ('dishwasher', '0.60'), ('extras', '0.51'), ('window', '0.32'), ('new', '0.31'), ('fixtures', '0.26'), ('brand new', '0.23')]\n",
      "Topic 7: [('ceiling', '0.54'), ('floor ceiling', '0.47'), ('ceiling windows', '0.45'), ('floor ceiling windows', '0.45'), ('floor', '0.39'), ('windows', '0.38'), ('ft', '0.31'), ('balcony', '0.30'), ('open', '0.28'), ('concept', '0.25'), ('open concept', '0.25')]\n",
      "\n",
      "=== Testing with 10 Topics ===\n",
      "Topic 1: [('perfect', '0.72'), ('home', '0.65'), ('offers', '0.64'), ('convenience', '0.61'), ('comfort', '0.51'), ('miss', '0.51'), ('space', '0.50'), ('vibrant', '0.48'), ('just', '0.47'), ('living', '0.45'), ('don', '0.44')]\n",
      "Topic 2: [('concierge', '0.48'), ('party', '0.48'), ('amenities', '0.47'), ('gym', '0.47'), ('party room', '0.46'), ('pool', '0.46'), ('room', '0.46'), ('building', '0.45'), ('24', '0.44'), ('indoor', '0.42'), ('sauna', '0.35')]\n",
      "Topic 3: [('room', '0.43'), ('custom', '0.42'), ('level', '0.40'), ('family', '0.40'), ('primary', '0.37'), ('main', '0.37'), ('fireplace', '0.36'), ('walk', '0.36'), ('family room', '0.34'), ('floor', '0.34'), ('built', '0.32')]\n",
      "Topic 4: [('401', '0.39'), ('school', '0.36'), ('close', '0.36'), ('mall', '0.35'), ('hwy', '0.34'), ('subway', '0.33'), ('location', '0.32'), ('shopping', '0.31'), ('access', '0.31'), ('community', '0.31'), ('york', '0.31')]\n",
      "Topic 5: [('steel', '0.73'), ('stainless steel', '0.72'), ('stainless', '0.72'), ('steel appliances', '0.66'), ('stainless steel appliances', '0.65'), ('appliances', '0.49'), ('quartz', '0.32'), ('countertops', '0.31'), ('backsplash', '0.24'), ('quartz countertops', '0.21'), ('kitchen', '0.21')]\n",
      "Topic 6: [('dryer', '0.75'), ('washer', '0.75'), ('washer dryer', '0.72'), ('fridge', '0.69'), ('stove', '0.67'), ('dishwasher', '0.66'), ('extras', '0.56'), ('window', '0.35'), ('new', '0.29'), ('fixtures', '0.27'), ('brand new', '0.23')]\n",
      "Topic 7: [('ceiling', '0.64'), ('floor ceiling', '0.57'), ('ceiling windows', '0.56'), ('floor ceiling windows', '0.55'), ('floor', '0.44'), ('windows', '0.43'), ('open', '0.27'), ('concept', '0.24'), ('open concept', '0.24'), ('light', '0.24'), ('natural', '0.24')]\n",
      "Topic 8: [('living dining', '0.52'), ('open concept living', '0.48'), ('concept living', '0.48'), ('area', '0.44'), ('dining area', '0.44'), ('dining', '0.43'), ('concept living dining', '0.41'), ('open concept', '0.40'), ('concept', '0.39'), ('living dining area', '0.38'), ('open', '0.37')]\n",
      "Topic 9: [('ft', '0.77'), ('sq ft', '0.75'), ('sq', '0.75'), ('rare', '0.22'), ('balcony', '0.21'), ('unit', '0.21'), ('west', '0.20'), ('locker', '0.19'), ('parking', '0.19'), ('bedroom', '0.18'), ('living space', '0.18')]\n",
      "Topic 10: [('basement', '0.71'), ('entrance', '0.51'), ('separate', '0.51'), ('detached', '0.48'), ('home', '0.47'), ('finished', '0.45'), ('backyard', '0.42'), ('finished basement', '0.42'), ('separate entrance', '0.42'), ('garage', '0.39'), ('potential', '0.38')]\n"
     ]
    }
   ],
   "source": [
    "for num_topics in [5, 7, 10]:\n",
    "    print(f\"\\n=== Testing with {num_topics} Topics ===\")\n",
    "    topic_extractor = postal_codes_scraper.NMFTopicExtractor(\n",
    "        text_col='Unit Description',\n",
    "        num_topics=num_topics,\n",
    "        max_features=500\n",
    "    )\n",
    "    topic_extractor.fit(merged_df)"
   ]
  },
  {
   "cell_type": "code",
   "execution_count": 49,
   "metadata": {},
   "outputs": [
    {
     "name": "stdout",
     "output_type": "stream",
     "text": [
      "Topic 1: [('room', '0.56'), ('level', '0.49'), ('primary', '0.48'), ('main', '0.46'), ('family', '0.46'), ('piece', '0.45'), ('custom', '0.45'), ('walk', '0.43'), ('fireplace', '0.40'), ('closet', '0.40'), ('floor', '0.40')]\n",
      "Topic 2: [('building', '0.48'), ('amenities', '0.45'), ('pool', '0.41'), ('gym', '0.41'), ('unit', '0.40'), ('party', '0.40'), ('room', '0.39'), ('party room', '0.38'), ('concierge', '0.38'), ('indoor', '0.38'), ('parking', '0.35')]\n",
      "Topic 3: [('basement', '0.56'), ('home', '0.38'), ('entrance', '0.38'), ('detached', '0.37'), ('finished', '0.36'), ('separate', '0.36'), ('schools', '0.35'), ('finished basement', '0.33'), ('backyard', '0.32'), ('lot', '0.32'), ('garage', '0.30')]\n",
      "Topic 4: [('perfect', '0.45'), ('home', '0.39'), ('offers', '0.39'), ('convenience', '0.37'), ('comfort', '0.31'), ('living', '0.30'), ('space', '0.30'), ('miss', '0.28'), ('vibrant', '0.27'), ('opportunity', '0.26'), ('ideal', '0.26')]\n",
      "Topic 5: [('steel', '0.68'), ('stainless', '0.68'), ('stainless steel', '0.68'), ('steel appliances', '0.62'), ('stainless steel appliances', '0.62'), ('appliances', '0.49'), ('countertops', '0.31'), ('quartz', '0.30'), ('backsplash', '0.25'), ('kitchen', '0.23'), ('concept', '0.20')]\n",
      "Topic 6: [('dryer', '0.67'), ('washer', '0.67'), ('washer dryer', '0.64'), ('fridge', '0.61'), ('stove', '0.60'), ('dishwasher', '0.59'), ('extras', '0.50'), ('window', '0.31'), ('new', '0.28'), ('fixtures', '0.26'), ('brand new', '0.21')]\n",
      "Topic 7: [('ceiling', '0.56'), ('floor ceiling', '0.49'), ('ceiling windows', '0.47'), ('floor ceiling windows', '0.47'), ('floor', '0.40'), ('windows', '0.39'), ('ft', '0.32'), ('balcony', '0.29'), ('open', '0.27'), ('views', '0.26'), ('concept', '0.25')]\n",
      "\n",
      " ======================================= \n",
      "\n",
      "    Topic_1   Topic_2   Topic_3   Topic_4   Topic_5   Topic_6   Topic_7\n",
      "0  0.096655  0.093897  0.000000  0.021671  0.000000  0.079904  0.045713\n",
      "1  0.113050  0.000000  0.112119  0.000000  0.016651  0.033038  0.021766\n",
      "2  0.137387  0.000000  0.000000  0.042678  0.015043  0.168090  0.005991\n",
      "3  0.008486  0.031480  0.000000  0.127144  0.109935  0.095805  0.068302\n",
      "4  0.038274  0.121680  0.000000  0.000000  0.040049  0.000000  0.055439\n",
      "5  0.088449  0.000000  0.057470  0.056122  0.071620  0.038764  0.000000\n",
      "6  0.099451  0.000000  0.065405  0.120719  0.001890  0.003742  0.000000\n",
      "7  0.065668  0.137770  0.000000  0.000000  0.007760  0.000000  0.088957\n",
      "8  0.069888  0.087264  0.000000  0.011395  0.004089  0.005038  0.065538\n",
      "9  0.000000  0.000000  0.171196  0.125076  0.000000  0.000000  0.000000\n"
     ]
    }
   ],
   "source": [
    "num_topics = 7\n",
    "\n",
    "topic_extractor = postal_codes_scraper.NMFTopicExtractor(\n",
    "    text_col='Unit Description',\n",
    "    num_topics=num_topics,\n",
    "    max_features=500\n",
    ")\n",
    "topic_extractor.fit(merged_df)\n",
    "\n",
    "df_transformed = topic_extractor.transform(merged_df)\n",
    "df_transformed = merged_df[['Unit Description']].join(df_transformed)\n",
    "\n",
    "print(\"\\n ======================================= \\n\")\n",
    "print(df_transformed[[f\"Topic_{i+1}\" for i in range(num_topics)]].head(10)) # in NMF the weights don't need to sum to 1"
   ]
  },
  {
   "cell_type": "code",
   "execution_count": 57,
   "metadata": {},
   "outputs": [],
   "source": [
    "select_topic = \"Topic_5\"\n",
    "\n",
    "df_transformed.nlargest(10, select_topic)[['Unit Description', select_topic]].to_csv(\"top_listings.csv\", index=False)\n"
   ]
  },
  {
   "cell_type": "markdown",
   "metadata": {},
   "source": [
    "##### Apply column transformations to create input features"
   ]
  },
  {
   "cell_type": "code",
   "execution_count": 17,
   "metadata": {},
   "outputs": [
    {
     "name": "stdout",
     "output_type": "stream",
     "text": [
      "Index(['Asking Price', 'Sold Price', 'Address', 'Unit Type', 'Bedrooms',\n",
      "       'Bathrooms', 'Postal Code', 'Listing URL', 'Bedroom Category',\n",
      "       'Postal Code Area', 'Sold Days Ago', 'Maintenance Fees',\n",
      "       'Unit Description'],\n",
      "      dtype='object')\n",
      "Topic 1: [('featuring', '0.31'), ('living', '0.27'), ('custom', '0.27'), ('private', '0.25'), ('near', '0.23'), ('home', '0.23'), ('space', '0.21'), ('step outside', '0.21'), ('living area', '0.21'), ('outside', '0.21'), ('gatherings', '0.20')]\n",
      "Topic 2: [('suite', '0.22'), ('built', '0.19'), ('room', '0.19'), ('building', '0.19'), ('ft', '0.19'), ('walk', '0.18'), ('party', '0.18'), ('tower', '0.18'), ('sq ft', '0.17'), ('sq', '0.17'), ('amenities', '0.17')]\n",
      "Topic 3: [('pc', '0.42'), ('bdrm', '0.28'), ('pc ensuite', '0.26'), ('main', '0.22'), ('family', '0.21'), ('eat kitchen', '0.20'), ('rec', '0.20'), ('pc bath', '0.20'), ('walk', '0.20'), ('room', '0.20'), ('kitchen', '0.19')]\n",
      "Topic 4: [('new', '0.23'), ('stove', '0.21'), ('dishwasher', '0.21'), ('fridge', '0.21'), ('dryer', '0.21'), ('washer', '0.21'), ('washer dryer', '0.21'), ('located', '0.17'), ('large', '0.17'), ('access', '0.16'), ('extras', '0.16')]\n",
      "Topic 5: [('sliding glass doors', '0.19'), ('sliding glass', '0.19'), ('sliding', '0.19'), ('glass doors', '0.19'), ('glass', '0.19'), ('doors', '0.18'), ('primary bedroom', '0.17'), ('light', '0.17'), ('like', '0.17'), ('primary', '0.16'), ('views', '0.16')]\n",
      "    Asking Price  Sold Price  \\\n",
      "0       998000.0    975000.0   \n",
      "1      1259000.0   1349000.0   \n",
      "2      3599900.0   3250000.0   \n",
      "3       825000.0    780000.0   \n",
      "4       559000.0    529000.0   \n",
      "5      1399999.0   1430000.0   \n",
      "6      1295000.0   1249000.0   \n",
      "7      1458900.0   1415000.0   \n",
      "8       708000.0    668000.0   \n",
      "9      1079000.0   1070000.0   \n",
      "10     1099000.0   1400000.0   \n",
      "11      628888.0    600000.0   \n",
      "12     1129000.0   1100000.0   \n",
      "13     1079000.0   1079000.0   \n",
      "14      529500.0    490000.0   \n",
      "15      899000.0    888000.0   \n",
      "16      525000.0    538888.0   \n",
      "17      849900.0    855000.0   \n",
      "18      499990.0    575000.0   \n",
      "19     1049900.0   1035000.0   \n",
      "\n",
      "                                              Address Bedrooms  Bathrooms  \\\n",
      "0    623 - 88 Colgate Ave , Toronto - South Riverdale        2          2   \n",
      "1   84A Aylesworth Ave , Scarborough - Birchcliffe...        4          5   \n",
      "2             501 Avonwood Dr , Mississauga - Mineola        4          4   \n",
      "3   314 - 199 Pine Grove Rd , Vaughan - East Woodb...        2          2   \n",
      "4   517 - 168 Simcoe St , Toronto - Waterfront Com...        1          1   \n",
      "5           22 Sgotto Blvd , Vaughan - Sonoma Heights        3          4   \n",
      "6          63 Thatcher Ave , Scarborough - Cliffcrest        3          3   \n",
      "7   611 - 1 Belsize Dr , Toronto - Mount Pleasant ...        2          3   \n",
      "8   LPH 03 - 55 Bloor St E , Toronto - Church-Yong...        2          2   \n",
      "9          4254 Poltava Cres , Mississauga - Rathwood        4          2   \n",
      "10  220 Linsmore Cres , Toronto - Danforth Village...        3          2   \n",
      "11     615 - 9000 Jane St , Vaughan - Vellore Village      1+1          2   \n",
      "12            82 Sedgemount Dr , Scarborough - Woburn      3+4          3   \n",
      "13          63 Billingsley Cres , Markham - Cedarwood        3          3   \n",
      "14  407 - 130 Neptune Dr , North York - Englemount...        2          2   \n",
      "15  3106 - 825 Church St , Toronto - Rosedale-Moor...      2+1          2   \n",
      "16    617 - 51 Baffin Crt , Richmond Hill - Langstaff      1+1          1   \n",
      "17         36 Prosperity Ptwy , Scarborough - Malvern      3+1          4   \n",
      "18  326 - 52 Forest Manor Rd , North York - Henry ...      1+1          2   \n",
      "19  3337 Rhonda Valy , Mississauga - Mississauga V...      3+1          2   \n",
      "\n",
      "   Postal Code                                        Listing URL  \\\n",
      "0       M4M0A6  https://housesigma.com/on/toronto-real-estate/...   \n",
      "1       M1N2J6  https://housesigma.com/on/scarborough-real-est...   \n",
      "2       L5G1Y8  https://housesigma.com/on/mississauga-real-est...   \n",
      "3       L4L0H8  https://housesigma.com/on/vaughan-real-estate/...   \n",
      "4       M5H4C9  https://housesigma.com/on/toronto-real-estate/...   \n",
      "5       L4H1X1  https://housesigma.com/on/vaughan-real-estate/...   \n",
      "6       M1M2M3  https://housesigma.com/on/scarborough-real-est...   \n",
      "7       M4S0B9  https://housesigma.com/on/toronto-real-estate/...   \n",
      "8       M4W3W6  https://housesigma.com/on/toronto-real-estate/...   \n",
      "9       L4W3C2  https://housesigma.com/on/mississauga-real-est...   \n",
      "10      M4J4L4  https://housesigma.com/on/toronto-real-estate/...   \n",
      "11      L4K0M6  https://housesigma.com/on/vaughan-real-estate/...   \n",
      "12      M1H1X6  https://housesigma.com/on/scarborough-real-est...   \n",
      "13      L3S4P2  https://housesigma.com/on/markham-real-estate/...   \n",
      "14      M6A1X5  https://housesigma.com/on/north-york-real-esta...   \n",
      "15      M4W3Z4  https://housesigma.com/on/toronto-real-estate/...   \n",
      "16      L4B4P6  https://housesigma.com/on/richmond-hill-real-e...   \n",
      "17      M1B4H2  https://housesigma.com/on/scarborough-real-est...   \n",
      "18      M2J0E2  https://housesigma.com/on/north-york-real-esta...   \n",
      "19      L5A3G2  https://housesigma.com/on/mississauga-real-est...   \n",
      "\n",
      "   Bedroom Category Postal Code Area Sold Days Ago  ...  \\\n",
      "0                 2              M4M             5  ...   \n",
      "1                3+              M1N            11  ...   \n",
      "2                3+              L5G            11  ...   \n",
      "3                 2              L4L            11  ...   \n",
      "4                 1              M5H            12  ...   \n",
      "5                3+              L4H            12  ...   \n",
      "6                3+              M1M            12  ...   \n",
      "7                 2              M4S            12  ...   \n",
      "8                 2              M4W            12  ...   \n",
      "9                3+              L4W            12  ...   \n",
      "10               3+              M4J            12  ...   \n",
      "11              1+1              L4K            12  ...   \n",
      "12               3+              M1H            12  ...   \n",
      "13               3+              L3S            12  ...   \n",
      "14                2              M6A            12  ...   \n",
      "15              2+1              M4W            12  ...   \n",
      "16              1+1              L4B            12  ...   \n",
      "17               3+              M1B            12  ...   \n",
      "18              1+1              M2J            12  ...   \n",
      "19               3+              L5A            12  ...   \n",
      "\n",
      "    Unit Type_Condo Townhouse  Unit Type_Detached  Unit Type_Semi-Detached  \\\n",
      "0                       False               False                    False   \n",
      "1                       False                True                    False   \n",
      "2                       False                True                    False   \n",
      "3                        True               False                    False   \n",
      "4                       False               False                    False   \n",
      "5                       False                True                    False   \n",
      "6                       False                True                    False   \n",
      "7                       False               False                    False   \n",
      "8                       False               False                    False   \n",
      "9                       False                True                    False   \n",
      "10                      False                True                    False   \n",
      "11                      False               False                    False   \n",
      "12                      False                True                    False   \n",
      "13                      False               False                     True   \n",
      "14                      False               False                    False   \n",
      "15                      False               False                    False   \n",
      "16                      False               False                    False   \n",
      "17                      False                True                    False   \n",
      "18                      False               False                    False   \n",
      "19                      False                True                    False   \n",
      "\n",
      "    Main_Bedrooms  Extra_Bedrooms   Topic_1   Topic_2   Topic_3   Topic_4  \\\n",
      "0               2               0  0.081399  0.319413  0.000000  0.036473   \n",
      "1               4               0  0.046582  0.000000  0.546246  0.000000   \n",
      "2               4               0  0.267381  0.003940  0.003636  0.110072   \n",
      "3               2               0  0.002730  0.145125  0.000000  0.149975   \n",
      "4               1               0  0.000000  0.515297  0.009279  0.000000   \n",
      "5               3               0  0.318998  0.051514  0.043077  0.000000   \n",
      "6               3               0  0.476946  0.000000  0.000000  0.000000   \n",
      "7               2               0  0.000000  0.502862  0.000000  0.000000   \n",
      "8               2               0  0.000000  0.033025  0.000000  0.000000   \n",
      "9               4               0  0.371945  0.000000  0.000000  0.049713   \n",
      "10              3               0  0.000000  0.000000  0.000000  0.000000   \n",
      "11              1               1  0.026695  0.383882  0.000000  0.034689   \n",
      "12              3               4  0.074758  0.000000  0.032638  0.492588   \n",
      "13              3               0  0.006426  0.055820  0.413099  0.000000   \n",
      "14              2               0  0.000000  0.000000  0.000000  0.632246   \n",
      "15              2               1  0.000000  0.030414  0.000000  0.496083   \n",
      "16              1               1  0.094255  0.285259  0.000000  0.064747   \n",
      "17              3               1  0.000000  0.000000  0.563268  0.000000   \n",
      "18              1               1  0.000000  0.400844  0.013526  0.053109   \n",
      "19              3               1  0.102155  0.010703  0.133347  0.229522   \n",
      "\n",
      "     Topic_5  \n",
      "0   0.110189  \n",
      "1   0.000000  \n",
      "2   0.143641  \n",
      "3   0.398348  \n",
      "4   0.000000  \n",
      "5   0.035111  \n",
      "6   0.000000  \n",
      "7   0.038694  \n",
      "8   0.672369  \n",
      "9   0.000000  \n",
      "10  0.729803  \n",
      "11  0.000000  \n",
      "12  0.000000  \n",
      "13  0.000000  \n",
      "14  0.000000  \n",
      "15  0.000000  \n",
      "16  0.000000  \n",
      "17  0.000000  \n",
      "18  0.000000  \n",
      "19  0.000000  \n",
      "\n",
      "[20 rows x 30 columns]\n",
      "\n",
      " ===================== \n",
      "\n",
      "                                              Address Bedrooms  \\\n",
      "0    623 - 88 Colgate Ave , Toronto - South Riverdale        2   \n",
      "1   84A Aylesworth Ave , Scarborough - Birchcliffe...        4   \n",
      "2             501 Avonwood Dr , Mississauga - Mineola        4   \n",
      "3   314 - 199 Pine Grove Rd , Vaughan - East Woodb...        2   \n",
      "4   517 - 168 Simcoe St , Toronto - Waterfront Com...        1   \n",
      "5           22 Sgotto Blvd , Vaughan - Sonoma Heights        3   \n",
      "6          63 Thatcher Ave , Scarborough - Cliffcrest        3   \n",
      "7   611 - 1 Belsize Dr , Toronto - Mount Pleasant ...        2   \n",
      "8   LPH 03 - 55 Bloor St E , Toronto - Church-Yong...        2   \n",
      "9          4254 Poltava Cres , Mississauga - Rathwood        4   \n",
      "10  220 Linsmore Cres , Toronto - Danforth Village...        3   \n",
      "11     615 - 9000 Jane St , Vaughan - Vellore Village      1+1   \n",
      "12            82 Sedgemount Dr , Scarborough - Woburn      3+4   \n",
      "13          63 Billingsley Cres , Markham - Cedarwood        3   \n",
      "14  407 - 130 Neptune Dr , North York - Englemount...        2   \n",
      "15  3106 - 825 Church St , Toronto - Rosedale-Moor...      2+1   \n",
      "16    617 - 51 Baffin Crt , Richmond Hill - Langstaff      1+1   \n",
      "17         36 Prosperity Ptwy , Scarborough - Malvern      3+1   \n",
      "18  326 - 52 Forest Manor Rd , North York - Henry ...      1+1   \n",
      "19  3337 Rhonda Valy , Mississauga - Mississauga V...      3+1   \n",
      "\n",
      "                                          Listing URL  Main_Bedrooms  \\\n",
      "0   https://housesigma.com/on/toronto-real-estate/...              2   \n",
      "1   https://housesigma.com/on/scarborough-real-est...              4   \n",
      "2   https://housesigma.com/on/mississauga-real-est...              4   \n",
      "3   https://housesigma.com/on/vaughan-real-estate/...              2   \n",
      "4   https://housesigma.com/on/toronto-real-estate/...              1   \n",
      "5   https://housesigma.com/on/vaughan-real-estate/...              3   \n",
      "6   https://housesigma.com/on/scarborough-real-est...              3   \n",
      "7   https://housesigma.com/on/toronto-real-estate/...              2   \n",
      "8   https://housesigma.com/on/toronto-real-estate/...              2   \n",
      "9   https://housesigma.com/on/mississauga-real-est...              4   \n",
      "10  https://housesigma.com/on/toronto-real-estate/...              3   \n",
      "11  https://housesigma.com/on/vaughan-real-estate/...              1   \n",
      "12  https://housesigma.com/on/scarborough-real-est...              3   \n",
      "13  https://housesigma.com/on/markham-real-estate/...              3   \n",
      "14  https://housesigma.com/on/north-york-real-esta...              2   \n",
      "15  https://housesigma.com/on/toronto-real-estate/...              2   \n",
      "16  https://housesigma.com/on/richmond-hill-real-e...              1   \n",
      "17  https://housesigma.com/on/scarborough-real-est...              3   \n",
      "18  https://housesigma.com/on/north-york-real-esta...              1   \n",
      "19  https://housesigma.com/on/mississauga-real-est...              3   \n",
      "\n",
      "    Extra_Bedrooms  \n",
      "0                0  \n",
      "1                0  \n",
      "2                0  \n",
      "3                0  \n",
      "4                0  \n",
      "5                0  \n",
      "6                0  \n",
      "7                0  \n",
      "8                0  \n",
      "9                0  \n",
      "10               0  \n",
      "11               1  \n",
      "12               4  \n",
      "13               0  \n",
      "14               0  \n",
      "15               1  \n",
      "16               1  \n",
      "17               1  \n",
      "18               1  \n",
      "19               1  \n"
     ]
    }
   ],
   "source": [
    "full_pipeline = Pipeline([\n",
    "    ('geocoder', postal_codes_scraper.PostalCodeGeocoder(postal_code_col='Postal Code Area')),\n",
    "    ('unit_encoder', postal_codes_scraper.UnitTypeEncoder(unit_type_col='Unit Type')),\n",
    "    ('bedrooms_encoder', postal_codes_scraper.BedroomSplitter(bedroom_col='Bedrooms')),\n",
    "    ('topic_extractor', postal_codes_scraper.NMFTopicExtractor(text_col='Unit Description', num_topics=5, max_features=500))\n",
    "])\n",
    "\n",
    "print(merged_df.columns)\n",
    "df_transformed = full_pipeline.fit_transform(merged_df.head(20))\n",
    "\n",
    "print(df_transformed)\n",
    "print(\"\\n ===================== \\n\")\n",
    "print(df_transformed[['Address', 'Bedrooms', 'Listing URL', 'Main_Bedrooms', 'Extra_Bedrooms']])"
   ]
  },
  {
   "cell_type": "markdown",
   "metadata": {},
   "source": [
    "*Get a sample of unit descriptions*"
   ]
  },
  {
   "cell_type": "code",
   "execution_count": 63,
   "metadata": {},
   "outputs": [
    {
     "name": "stdout",
     "output_type": "stream",
     "text": [
      "                                                                                                                                                                                                                                                                                                                                                                                Short Description\n",
      "357  Beautiful 1 + 1 Penthouse Corner Unit In Incredible Forest Hill Location! This Sun-Filled Condo Features An Open Concept Floor Plan With Laminate Floors & Soaring Ceilings, Combined Living & Kitchen Area With Walk-Out To Huge Balcony With Gorgeous Views Over The Neighbourhood. Primary Bedroom With Double Closet & 4-Piece Ensuite Bathroom Plus Den/Additional Bedroom/Office Space\n",
      "259                                                                                                                Welcome To 3420 Kingston Rd Unit 5. Discover This Hidden Gem In Prime Toronto Location! Spacious And Affordable 3+1 Bedroom, 3 Bathroom Condo Townhouse That Has A Practical Payout! This 5-Level Unit Features An Open-Concept Kitchen With Quarts Countertops And Pot Lights\n",
      "750                                                                                                                                                                                                                                                                                                                          Fully Renovated Unit. Largest Layout in Complex includes 2 Balconies\n",
      "193                                                                                                                                                                                                                                                                                        In the heart of Etobicoke, you'll find the Nuvo Condos and this thoughtfully laid out  684 Sq Ft. unit\n",
      "333   Long live Long Branch! An incredible investment opportunity to live in and rent out, or rent both units! The main floor features a large sun-filled living space, modern kitchen, and two bedrooms! Great for first time home buyers, downsizers, investors, or a young family. You wouldn't even believe the 'basement' is a basement; partially above grade and filled with natural light\n"
     ]
    }
   ],
   "source": [
    "# Select a random sample of 5 descriptions\n",
    "sample_descriptions = merged_df[['Unit Description']].sample(n=5, random_state=42)\n",
    "\n",
    "# Function to keep only the first 2 sentences\n",
    "def shorten_text(text, num_sentences=2):\n",
    "    sentences = text.split(\". \")  # Split into sentences\n",
    "    return \". \".join(sentences[:num_sentences])  # Keep only the first `num_sentences`\n",
    "\n",
    "# Apply the function to shorten descriptions\n",
    "sample_descriptions['Short Description'] = sample_descriptions['Unit Description'].apply(lambda x: shorten_text(x))\n",
    "\n",
    "pd.set_option('display.max_colwidth', None)  # Show full text\n",
    "print(sample_descriptions[['Short Description']])"
   ]
  },
  {
   "cell_type": "markdown",
   "metadata": {},
   "source": [
    "##### Sample code:"
   ]
  },
  {
   "cell_type": "code",
   "execution_count": null,
   "metadata": {},
   "outputs": [
    {
     "name": "stdout",
     "output_type": "stream",
     "text": [
      "Topic 1: ['rent', 'long', 'live', 'filled', 'features', 'incredible']\n",
      "Topic 2: ['unit', 'complex', 'unit largest layout', 'balconies', 'unit largest', 'complex includes']\n",
      "Topic 3: ['townhouse', 'years new', 'clark', 'years', 'clark bathurst', 'clark bathurst approx']\n"
     ]
    }
   ],
   "source": [
    "import re\n",
    "from sklearn.decomposition import NMF\n",
    "from sklearn.feature_extraction.text import TfidfVectorizer\n",
    "\n",
    "# Sample short text documents from real estate listings\n",
    "documents = [\n",
    "    \"Beautiful 1 + 1 Penthouse Corner Unit In Incredible Forest Hill Location! This Sun-Filled Condo Features An Open Concept Floor Plan With Laminate Floors & Soaring Ceilings, Combined Living & Kitchen Area With Walk-Out To Huge Balcony.\",\n",
    "    \"Discover This Hidden Gem In Prime Toronto Location! Spacious And Affordable 3+1 Bedroom, 3 Bathroom Condo Townhouse That Has A Practical Layout!\",\n",
    "    \"Fully Renovated Unit. Largest Layout in Complex includes 2 Balconies.\",\n",
    "    \"In the heart of Etobicoke, you'll find the Nuvo Condos and this thoughtfully laid out 684 Sq Ft unit.\",\n",
    "    \"Long live Long Branch! An incredible investment opportunity to live in and rent out, or rent both units! The main floor features a large sun-filled living space, modern kitchen, and two bedrooms.\",\n",
    "    \"Do not miss this one! Rare Luxurious 3 Years New Modern Townhouse Near Clark & Bathurst. Approx 2402 Sqft.\",\n",
    "    \"This beautiful and bright One Bedroom plus Den unit in The Southampton Residences is the perfect place to call home. Desirably located close to High Park.\"\n",
    "]\n",
    "\n",
    "# Custom function to remove numbers from text\n",
    "def remove_numbers(text):\n",
    "    return re.sub(r'\\b\\d+\\b', '', text)  # Remove standalone numbers\n",
    "\n",
    "# Apply number removal to all descriptions\n",
    "documents = [remove_numbers(doc) for doc in documents]\n",
    "\n",
    "# Convert text to TF-IDF matrix\n",
    "vectorizer = TfidfVectorizer(stop_words='english', max_features=500, ngram_range=(1,3), sublinear_tf=True, min_df=2)\n",
    "tfidf_matrix = vectorizer.fit_transform(documents)\n",
    "\n",
    "# Apply NMF with 3 topics\n",
    "nmf = NMF(n_components=3, random_state=42)\n",
    "W = nmf.fit_transform(tfidf_matrix)  # Document-topic matrix\n",
    "H = nmf.components_  # Topic-term matrix\n",
    "\n",
    "# Display top words per topic\n",
    "feature_names = vectorizer.get_feature_names_out()\n",
    "for topic_idx, topic in enumerate(H):\n",
    "    top_words = [feature_names[i] for i in topic.argsort()[:-6 - 1:-1]]  # Top 6 words\n",
    "    print(f\"Topic {topic_idx + 1}: {top_words}\")"
   ]
  }
 ],
 "metadata": {
  "kernelspec": {
   "display_name": "venv",
   "language": "python",
   "name": "python3"
  },
  "language_info": {
   "codemirror_mode": {
    "name": "ipython",
    "version": 3
   },
   "file_extension": ".py",
   "mimetype": "text/x-python",
   "name": "python",
   "nbconvert_exporter": "python",
   "pygments_lexer": "ipython3",
   "version": "3.13.1"
  }
 },
 "nbformat": 4,
 "nbformat_minor": 2
}
