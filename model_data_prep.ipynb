{
 "cells": [
  {
   "cell_type": "markdown",
   "metadata": {},
   "source": [
    "##### Load scraped data from csv file"
   ]
  },
  {
   "cell_type": "code",
   "execution_count": 5,
   "metadata": {},
   "outputs": [
    {
     "name": "stdout",
     "output_type": "stream",
     "text": [
      "(764, 10)\n",
      "Index(['Asking Price', 'Sold Price', 'Address', 'Unit Type', 'Bedrooms',\n",
      "       'Bathrooms', 'Postal Code', 'Listing URL', 'Bedroom Category',\n",
      "       'Postal Code Area'],\n",
      "      dtype='object')\n",
      "\n",
      " ===================== \n",
      "\n",
      "Asking Price        float64\n",
      "Sold Price          float64\n",
      "Address              object\n",
      "Unit Type            object\n",
      "Bedrooms             object\n",
      "Bathrooms             int64\n",
      "Postal Code          object\n",
      "Listing URL          object\n",
      "Bedroom Category     object\n",
      "Postal Code Area     object\n",
      "dtype: object\n",
      "\n",
      " ===================== \n",
      "\n",
      "   Asking Price  Sold Price  \\\n",
      "0      998000.0    975000.0   \n",
      "1     1259000.0   1349000.0   \n",
      "2     3599900.0   3250000.0   \n",
      "3      825000.0    780000.0   \n",
      "4      559000.0    529000.0   \n",
      "\n",
      "                                             Address        Unit Type  \\\n",
      "0   623 - 88 Colgate Ave , Toronto - South Riverdale        Condo Apt   \n",
      "1  84A Aylesworth Ave , Scarborough - Birchcliffe...         Detached   \n",
      "2            501 Avonwood Dr , Mississauga - Mineola         Detached   \n",
      "3  314 - 199 Pine Grove Rd , Vaughan - East Woodb...  Condo Townhouse   \n",
      "4  517 - 168 Simcoe St , Toronto - Waterfront Com...        Condo Apt   \n",
      "\n",
      "  Bedrooms  Bathrooms Postal Code  \\\n",
      "0        2          2      M4M0A6   \n",
      "1        4          5      M1N2J6   \n",
      "2        4          4      L5G1Y8   \n",
      "3        2          2      L4L0H8   \n",
      "4        1          1      M5H4C9   \n",
      "\n",
      "                                         Listing URL Bedroom Category  \\\n",
      "0  https://housesigma.com/on/toronto-real-estate/...                2   \n",
      "1  https://housesigma.com/on/scarborough-real-est...               3+   \n",
      "2  https://housesigma.com/on/mississauga-real-est...               3+   \n",
      "3  https://housesigma.com/on/vaughan-real-estate/...                2   \n",
      "4  https://housesigma.com/on/toronto-real-estate/...                1   \n",
      "\n",
      "  Postal Code Area  \n",
      "0              M4M  \n",
      "1              M1N  \n",
      "2              L5G  \n",
      "3              L4L  \n",
      "4              M5H  \n"
     ]
    }
   ],
   "source": [
    "import pandas as pd\n",
    "\n",
    "# Load the DataFrame from the CSV file\n",
    "input_df = pd.read_csv('filtered_sold_data.csv')\n",
    "\n",
    "print(input_df.shape)\n",
    "print(input_df.columns)\n",
    "print(\"\\n ===================== \\n\")\n",
    "print(input_df.dtypes)\n",
    "print(\"\\n ===================== \\n\")\n",
    "print(input_df.head())"
   ]
  },
  {
   "cell_type": "markdown",
   "metadata": {},
   "source": [
    "##### Extract maintenance fees from urls"
   ]
  },
  {
   "cell_type": "markdown",
   "metadata": {},
   "source": []
  }
 ],
 "metadata": {
  "kernelspec": {
   "display_name": "venv",
   "language": "python",
   "name": "python3"
  },
  "language_info": {
   "codemirror_mode": {
    "name": "ipython",
    "version": 3
   },
   "file_extension": ".py",
   "mimetype": "text/x-python",
   "name": "python",
   "nbconvert_exporter": "python",
   "pygments_lexer": "ipython3",
   "version": "3.13.1"
  }
 },
 "nbformat": 4,
 "nbformat_minor": 2
}
